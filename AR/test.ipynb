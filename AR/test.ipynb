{
 "cells": [
  {
   "cell_type": "markdown",
   "metadata": {},
   "source": [
    "### Branje podatkov"
   ]
  },
  {
   "cell_type": "code",
   "execution_count": 195,
   "metadata": {
    "scrolled": true
   },
   "outputs": [],
   "source": [
    "import pandas as pd\n",
    "import numpy as np\n",
    "import matplotlib.pyplot as plt\n",
    "import collections"
   ]
  },
  {
   "cell_type": "code",
   "execution_count": 3,
   "metadata": {
    "scrolled": true
   },
   "outputs": [],
   "source": [
    "stolpci = [0, 1, 4, 5, 6, 9, 10, 11, 12, 13, 14, 15, 16, 17, 18, 19, 20, 23, 24, 31, 32, 33, 47, 48, 49, 58, 59, 60, 65, 83, 89, 90, 91, 99, 100]\n",
    "mesec = ['Januar', 'Februar', 'Marec', 'April', 'Maj', 'Junij', 'Julij', 'Avgust', 'September', 'Oktober', 'November', 'December']\n",
    "tipi = {'B-Datum prve registracije vozila': str,\n",
    "         '2A-Datum prve registracije vozila v SLO': str, \n",
    "         'Status vozila (id)': float,\n",
    "         'Status vozila (opis)': str, \n",
    "         'Izvajalna enota prve registracije': str,\n",
    "         'C-Starost uporabnika vozila': float,\n",
    "         'C-Ali je uporabnik pravna ali fizicna oseba': str,\n",
    "         'C-Spol uporabnika (ce gre za fizicno osebo)': 'str',\n",
    "         'C-Ali je uporabnik tudi lastnik vozila': str,\n",
    "         'C1.3-Upravna enota uporabnika vozila (oznaka)': str,\n",
    "         'C1.3-Upravna enota uporabnika vozila (opis)': str,\n",
    "         'C1.3-Obcina uporabnika vozila (oznaka)': str,\n",
    "         'C1.3-Obcina uporabnika vozila (opis)': str,\n",
    "         'C2-Starost lastnika vozila': float,\n",
    "         'C2-Ali je lastnik pravna ali fizicna oseba': str,\n",
    "         'C2-Spol lastnika (ce gre za fizicno osebo)': str, \n",
    "         'D.1-Znamka': str,\n",
    "         'D.4.2-Drzava (opis)': str,\n",
    "         'D.4.2-Drzava (koda)':str,\n",
    "         'G-Masa vozila': float,\n",
    "         'J-Kategorija in vrsta vozila (oznaka)': str,\n",
    "         'J-Kategorija in vrsta vozila (opis)': str,\n",
    "         'P.1.2-Nazivna moc': str,\n",
    "         'P.1.3-Vrsta goriva (opis)': str,\n",
    "         'P.1.3-Vrsta goriva (oznaka)': str,\n",
    "         'R-Barva vozila (oznaka)': str,\n",
    "         'R-Barva vozila (opis)': str,\n",
    "         'S.1-Stevilo sedezev (vkljucno z vozniskim)': float,\n",
    "         'U.3-V voznji': str,\n",
    "         'V.8-Kombinirana poraba goriva': float,\n",
    "         'Y.1-Dolzina': float,\n",
    "         'Y.2-Sirina': float,\n",
    "         'Y.3-Visina': float,\n",
    "         'Komerc. oznaka  do prvega /': str,\n",
    "         '5A-Leto izdelave': str}\n",
    "\n",
    "dtype = {'B-Datum prve registracije vozila': 'str',\n",
    "         '2A-Datum prve registracije vozila v SLO': 'str', \n",
    "         'Status vozila (id)': 'float',\n",
    "         'Status vozila (opis)': 'str', \n",
    "         'Izvajalna enota prve registracije': 'str',\n",
    "         'C-Starost uporabnika vozila': 'float',\n",
    "         'C-Ali je uporabnik pravna ali fizicna oseba': 'str',\n",
    "         'C-Spol uporabnika (ce gre za fizicno osebo)': 'str',\n",
    "         'C-Ali je uporabnik tudi lastnik vozila': 'str',\n",
    "         'C1.3-Upravna enota uporabnika vozila (oznaka)': 'str',\n",
    "         'C1.3-Upravna enota uporabnika vozila (opis)': 'str',\n",
    "         'C1.3-Obcina uporabnika vozila (oznaka)': 'str',\n",
    "         'C1.3-Obcina uporabnika vozila (opis)': 'str',\n",
    "         'C2-Starost lastnika vozila': 'float',\n",
    "         'C2-Ali je lastnik pravna ali fizicna oseba': 'str',\n",
    "         'C2-Spol lastnika (ce gre za fizicno osebo)': 'str', \n",
    "         'D.1-Znamka': 'str',\n",
    "         'D.4.2-Drzava (opis)': 'str',\n",
    "         'D.4.2-Drzava (koda)':'str',\n",
    "         'G-Masa vozila': 'float',\n",
    "         'J-Kategorija in vrsta vozila (oznaka)': 'str',\n",
    "         'J-Kategorija in vrsta vozila (opis)': 'str',\n",
    "         'P.1.2-Nazivna moc': 'str',\n",
    "         'P.1.3-Vrsta goriva (opis)': 'str',\n",
    "         'P.1.3-Vrsta goriva (oznaka)': 'str',\n",
    "         'R-Barva vozila (oznaka)': 'str',\n",
    "         'R-Barva vozila (opis)': 'str',\n",
    "         'S.1-Stevilo sedezev (vkljucno z vozniskim)': 'float',\n",
    "         'U.3-V voznji': 'str',\n",
    "         'V.8-Kombinirana poraba goriva': 'float',\n",
    "         'Y.1-Dolzina': 'float',\n",
    "         'Y.2-Sirina': 'float',\n",
    "         'Y.3-Visina': 'float',\n",
    "         'Komerc. oznaka  do prvega /': 'str',\n",
    "         '5A-Leto izdelave': 'str'}"
   ]
  },
  {
   "cell_type": "code",
   "execution_count": 84,
   "metadata": {
    "scrolled": true
   },
   "outputs": [],
   "source": [
    "#df1501 = pd.read_csv(\"../data/2015/NPodatki_012015.csv\", encoding = 'latin1', sep=';', usecols=tipi, decimal = ',', low_memory=False)\n",
    "#df15 = [df1501, df1502, df1503, df1504, df1505, df1506, df1507, df1508, df1509, df1510, df1511, df1512]\n",
    "\n",
    "df1801 = pd.read_csv(\"../data/2018/Podatki_012018.csv\", encoding = 'cp1252', sep=';', usecols=stolpci, decimal =',', dtype=dtype)\n",
    "df1802 = pd.read_csv(\"../data/2018/Podatki_022018.csv\", encoding = 'cp1252', sep=';', usecols=stolpci, decimal =',', dtype=dtype)\n",
    "df1803 = pd.read_csv(\"../data/2018/Podatki_032018.csv\", encoding = 'cp1252', sep=';', usecols=stolpci, decimal =',', dtype=dtype)\n",
    "df1804 = pd.read_csv(\"../data/2018/Podatki_042018.csv\", encoding = 'cp1252', sep=';', usecols=stolpci, decimal =',', dtype=dtype)\n",
    "df1805 = pd.read_csv(\"../data/2018/Podatki_052018.csv\", encoding = 'cp1252', sep=';', usecols=stolpci, decimal =',', dtype=dtype)\n",
    "df1806 = pd.read_csv(\"../data/2018/Podatki_062018.csv\", encoding = 'cp1252', sep=';', usecols=stolpci, decimal =',', dtype=dtype)\n",
    "df1807 = pd.read_csv(\"../data/2018/Podatki_072018.csv\", encoding = 'cp1252', sep=';', usecols=stolpci, decimal =',', dtype=dtype)\n",
    "df1808 = pd.read_csv(\"../data/2018/Podatki_082018.csv\", encoding = 'cp1252', sep=';', usecols=stolpci, decimal =',', dtype=dtype)\n",
    "df1809 = pd.read_csv(\"../data/2018/Podatki_092018.csv\", encoding = 'cp1252', sep=';', usecols=stolpci, decimal =',', dtype=dtype)\n",
    "df1810 = pd.read_csv(\"../data/2018/Podatki_102018.csv\", encoding = 'cp1252', sep=';', usecols=stolpci, decimal =',', dtype=dtype)\n",
    "df1811 = pd.read_csv(\"../data/2018/Podatki_112018.csv\", encoding = 'cp1252', sep=';', usecols=stolpci, decimal =',', dtype=dtype)\n",
    "df1812 = pd.read_csv(\"../data/2018/Podatki_122018.csv\", encoding = 'cp1252', sep=';', usecols=stolpci, decimal =',', dtype=dtype)\n",
    "df18 = [df1801, df1802, df1803, df1804, df1805, df1806, df1807, df1808, df1809, df1810, df1811, df1812]\n",
    "data18 = pd.concat(df18, sort=False)"
   ]
  },
  {
   "cell_type": "code",
   "execution_count": 140,
   "metadata": {},
   "outputs": [],
   "source": [
    "df1501 = pd.read_csv(\"../data/2015/NPodatki_012015.csv\", encoding = 'cp1252', sep=';', usecols=stolpci, decimal =',', dtype=dtype)\n",
    "df1502 = pd.read_csv(\"../data/2015/NPodatki_022015.csv\", encoding = 'cp1252', sep=';', usecols=stolpci, decimal =',', dtype=dtype)\n",
    "df1503 = pd.read_csv(\"../data/2015/NPodatki_032015.csv\", encoding = 'cp1252', sep=';', usecols=stolpci, decimal =',', dtype=dtype)\n",
    "df1504 = pd.read_csv(\"../data/2015/NPodatki_042015.csv\", encoding = 'cp1252', sep=';', usecols=stolpci, decimal =',', dtype=dtype)\n",
    "df1505 = pd.read_csv(\"../data/2015/NPodatki_052015.csv\", encoding = 'cp1252', sep=';', usecols=stolpci, decimal =',', dtype=dtype)\n",
    "df1506 = pd.read_csv(\"../data/2015/NPodatki_062015.csv\", encoding = 'cp1252', sep=';', usecols=stolpci, decimal =',', dtype=dtype)\n",
    "df1507 = pd.read_csv(\"../data/2015/NPodatki_072015.csv\", encoding = 'cp1252', sep=';', usecols=stolpci, decimal =',', dtype=dtype)\n",
    "df1508 = pd.read_csv(\"../data/2015/NPodatki_082015.csv\", encoding = 'cp1252', sep=';', usecols=stolpci, decimal =',', dtype=dtype)\n",
    "df1509 = pd.read_csv(\"../data/2015/NPodatki_092015.csv\", encoding = 'cp1252', sep=';', usecols=stolpci, decimal =',', dtype=dtype)\n",
    "df1510 = pd.read_csv(\"../data/2015/NPodatki_102015.csv\", encoding = 'cp1252', sep=';', usecols=stolpci, decimal =',', dtype=dtype)\n",
    "df1511 = pd.read_csv(\"../data/2015/NPodatki_112015.csv\", encoding = 'cp1252', sep=';', usecols=stolpci, decimal =',', dtype=dtype)\n",
    "df1512 = pd.read_csv(\"../data/2015/NPodatki_122015.csv\", encoding = 'cp1252', sep=';', usecols=stolpci, decimal =',', dtype=dtype)\n",
    "df15 = [df1501, df1502, df1503, df1504, df1505, df1506, df1507, df1508, df1509, df1510, df1511, df1512]\n",
    "data15 = pd.concat(df15, sort=False)"
   ]
  },
  {
   "cell_type": "code",
   "execution_count": 167,
   "metadata": {},
   "outputs": [],
   "source": [
    "df1901 = pd.read_csv(\"../data/2019/Podatki_012019.csv\", encoding = 'cp1252', sep=';', usecols=stolpci, decimal =',', dtype=dtype)\n",
    "df1902 = pd.read_csv(\"../data/2019/Podatki_022019.csv\", encoding = 'cp1252', sep=';', usecols=stolpci, decimal =',', dtype=dtype)\n",
    "df19 = [df1901, df1902]\n",
    "data19 = pd.concat(df19, sort=False)"
   ]
  },
  {
   "cell_type": "code",
   "execution_count": 131,
   "metadata": {},
   "outputs": [
    {
     "data": {
      "text/plain": [
       "Index(['ID', 'Datum prve registracije', 'Datum prve registracije Slo',\n",
       "       'Datum statusa vozila', 'Datum coc', 'Vrsta goriva',\n",
       "       'Kategorija vozila - oznaka', 'Kategorija vozila - opis',\n",
       "       'Šifra nadgradnje', 'Dodatna nadgradnja', 'Opis namen vozila',\n",
       "       'Barva vozila - šifra', 'Znamka', 'Država proizvajalka',\n",
       "       'Tovarniška oznaka vozila', 'Komercialna oznaka vozila',\n",
       "       'Komercialni tip vozila', 'Delovna prostornina', 'Najveèja neto moè',\n",
       "       'Dolžina', 'Širina', 'Višina', 'Dov pnevmatike in platišèa',\n",
       "       'Indentifikacijska koda (traktorji)', 'VIN', 'Izvajalna enota',\n",
       "       'Vrsta potrdila', 'Masa vozila', 'Najveèja tehdovmasa vozila',\n",
       "       'Medosje', 'Število osi', 'Število sedežev', 'Leto izdelave',\n",
       "       'Obèina - šifra', 'Upravna enota - šifra',\n",
       "       'Reg obmoèje oznaka na tablici', 'Podvrsta reg tablice',\n",
       "       'Status vozila - šifra', 'Starost uporabnika',\n",
       "       'Uporabnik fizièna/pravna oseba', 'Starost lastnika',\n",
       "       'Lastnik fizièna/pravna oseba', 'Spol lastnika',\n",
       "       'Lastnik=Uporabnik (1:DA,2:NE)', 'Co2', 'Spol uporabnika',\n",
       "       'Hrup v mirovanju', 'Hrup v vožnji', 'Co', 'Hc', 'Nox', 'Hc Nox',\n",
       "       'Delci pri dizel motorjih', 'Kombinirana poraba goriva'],\n",
       "      dtype='object')"
      ]
     },
     "execution_count": 131,
     "metadata": {},
     "output_type": "execute_result"
    }
   ],
   "source": [
    "df12 = pd.read_csv(\"../data/2012/Vozila2012-1stRegs.csv\", encoding = 'cp1252',sep=';', decimal =',', dtype=tipi)\n",
    "df12.columns"
   ]
  },
  {
   "cell_type": "code",
   "execution_count": 28,
   "metadata": {},
   "outputs": [
    {
     "data": {
      "text/plain": [
       "array(['D', 'P', '-', 'M', 'P/LPG', 'XXX', 'P/CNG', 'CNG', 'P/ET',\n",
       "       'D/LPG', 'D/BD'], dtype=object)"
      ]
     },
     "execution_count": 28,
     "metadata": {},
     "output_type": "execute_result"
    }
   ],
   "source": [
    "df12['Vrsta goriva'].unique()"
   ]
  },
  {
   "cell_type": "code",
   "execution_count": 87,
   "metadata": {},
   "outputs": [
    {
     "data": {
      "text/plain": [
       "array(['D', 'P', '-', 'M', 'P/LPG', 'XXX', 'CNG', 'P/CNG', 'LPG', 'P/ET'],\n",
       "      dtype=object)"
      ]
     },
     "execution_count": 87,
     "metadata": {},
     "output_type": "execute_result"
    }
   ],
   "source": [
    "data18['P.1.3-Vrsta goriva (oznaka)'].unique()"
   ]
  },
  {
   "cell_type": "code",
   "execution_count": 168,
   "metadata": {},
   "outputs": [],
   "source": [
    "# 2012\n",
    "osebna_vozila12 = df12[df12['Kategorija vozila - oznaka'] == 'M1']\n",
    "elektricna_osebna12 = osebna_vozila12[osebna_vozila12['Vrsta goriva'] == '-']\n",
    "znamka12 = elektricna_osebna12['Znamka']\n",
    "oznaka12 = elektricna_osebna12['Komercialna oznaka vozila']\n",
    "\n",
    "# 2015\n",
    "osebna_vozila15 = data15[data15['J-Kategorija in vrsta vozila (oznaka)'] == 'M1']\n",
    "elektricna_osebna15 = osebna_vozila15[osebna_vozila15['P.1.3-Vrsta goriva (oznaka)'] == '-']\n",
    "znamka15 = elektricna_osebna15['D.1-Znamka']\n",
    "oznaka15 = elektricna_osebna15['Komerc. oznaka  do prvega /']\n",
    "\n",
    "# 2018\n",
    "osebna_vozila18 = data18[data18['J-Kategorija in vrsta vozila (oznaka)'] == 'M1']\n",
    "elektricna_osebna18 = osebna_vozila18[osebna_vozila18['P.1.3-Vrsta goriva (oznaka)'] == '-']\n",
    "znamka18 = elektricna_osebna18['D.1-Znamka']\n",
    "oznaka18 = elektricna_osebna18['Komerc. oznaka  do prvega /']\n",
    "\n",
    "# 2019\n",
    "osebna_vozila19 = data19[data19['J-Kategorija in vrsta vozila (oznaka)'] == 'M1']\n",
    "elektricna_osebna19 = osebna_vozila19[osebna_vozila19['P.1.3-Vrsta goriva (oznaka)'] == '-']\n",
    "znamka19 = elektricna_osebna19['D.1-Znamka']\n",
    "oznaka19 = elektricna_osebna19['Komerc. oznaka  do prvega /']"
   ]
  },
  {
   "cell_type": "code",
   "execution_count": 177,
   "metadata": {},
   "outputs": [
    {
     "data": {
      "text/plain": [
       "defaultdict(int,\n",
       "            {'BMW I': 107,\n",
       "             'TESLA': 15,\n",
       "             'NISSAN': 109,\n",
       "             'VOLKSWAGEN': 46,\n",
       "             'SMART': 84,\n",
       "             'RENAULT': 113,\n",
       "             'PEUGEOT': 9,\n",
       "             'KIA': 11,\n",
       "             'HYUNDAI': 45,\n",
       "             'MITSUBISHI': 4,\n",
       "             'AUDI': 2,\n",
       "             'CITROEN': 12,\n",
       "             'ŠKODA': 1,\n",
       "             'MERCEDES BENZ': 2,\n",
       "             'FIAT': 7,\n",
       "             'MIA': 1,\n",
       "             'MAZDA': 1})"
      ]
     },
     "execution_count": 177,
     "metadata": {},
     "output_type": "execute_result"
    }
   ],
   "source": [
    "znamke_skupaj = collections.defaultdict(int)\n",
    "el_avti = collections.defaultdict(int)\n",
    "for z in znamka18.values:\n",
    "    el_avti[z] += 1\n",
    "    znamke_skupaj[z] += 1\n",
    "    #el_avti[z] = (oznaka.values[i])\n",
    "el_avti"
   ]
  },
  {
   "cell_type": "code",
   "execution_count": 178,
   "metadata": {},
   "outputs": [
    {
     "data": {
      "text/plain": [
       "defaultdict(int,\n",
       "            {'NISSAN': 13,\n",
       "             'RENAULT': 9,\n",
       "             'SMART': 4,\n",
       "             'TESLA': 4,\n",
       "             'HYUNDAI': 46,\n",
       "             'CITROEN': 4,\n",
       "             'BMW I': 16,\n",
       "             'VOLKSWAGEN': 2,\n",
       "             'PEUGEOT': 1})"
      ]
     },
     "execution_count": 178,
     "metadata": {},
     "output_type": "execute_result"
    }
   ],
   "source": [
    "el_avti19 = collections.defaultdict(int)\n",
    "for z in znamka19.values:\n",
    "    el_avti19[z] += 1\n",
    "    znamke_skupaj[z] += 1\n",
    "    #el_avti[z] = (oznaka.values[i])\n",
    "el_avti19"
   ]
  },
  {
   "cell_type": "code",
   "execution_count": 179,
   "metadata": {},
   "outputs": [
    {
     "data": {
      "text/plain": [
       "defaultdict(int, {'PEUGEOT': 13, 'NISSAN': 2, 'CITROEN': 8, 'FIAT': 1})"
      ]
     },
     "execution_count": 179,
     "metadata": {},
     "output_type": "execute_result"
    }
   ],
   "source": [
    "el_avti12 = collections.defaultdict(int)\n",
    "for z in znamka12.values:\n",
    "    el_avti12[z] += 1\n",
    "    znamke_skupaj[z] += 1\n",
    "    #el_avti[z] = (oznaka.values[i])\n",
    "el_avti12"
   ]
  },
  {
   "cell_type": "code",
   "execution_count": 180,
   "metadata": {},
   "outputs": [
    {
     "data": {
      "text/plain": [
       "defaultdict(int,\n",
       "            {'SMART': 18,\n",
       "             'TESLA': 10,\n",
       "             'RENAULT': 48,\n",
       "             'BMW I': 18,\n",
       "             'NISSAN': 20,\n",
       "             'MITSUBISHI': 1,\n",
       "             'VOLKSWAGEN': 15,\n",
       "             'CITROEN': 9,\n",
       "             'PEUGEOT': 1,\n",
       "             'MERCEDES BENZ': 1,\n",
       "             'KIA': 3})"
      ]
     },
     "execution_count": 180,
     "metadata": {},
     "output_type": "execute_result"
    }
   ],
   "source": [
    "el_avti15 = collections.defaultdict(int)\n",
    "for z in znamka15.values:\n",
    "    el_avti15[z] += 1\n",
    "    znamke_skupaj[z] += 1\n",
    "    #el_avti[z] = (oznaka.values[i])\n",
    "el_avti15"
   ]
  },
  {
   "cell_type": "code",
   "execution_count": 173,
   "metadata": {},
   "outputs": [],
   "source": [
    "st_el12 = sum(el_avti12.values())\n",
    "st_el15 = sum(el_avti15.values())\n",
    "st_el18 = sum(el_avti.values())\n",
    "st_el19 = sum(el_avti19.values())"
   ]
  },
  {
   "cell_type": "code",
   "execution_count": 233,
   "metadata": {},
   "outputs": [
    {
     "data": {
      "image/png": "[encoded data removed]",
      "text/plain": [
       "<Figure size 640x400 with 1 Axes>"
      ]
     },
     "metadata": {
      "needs_background": "light"
     },
     "output_type": "display_data"
    }
   ],
   "source": [
    "x = np.arange(4)\n",
    "y = [st_el12, st_el15, st_el18, st_el19]\n",
    "\n",
    "plt.figure(figsize=(8, 5), dpi= 80)\n",
    "\n",
    "plt.bar(x, y)\n",
    "plt.xticks(x, ('2012', '2015', '2018', '2019 (jan, feb)'))\n",
    "plt.ylim(top = 600)\n",
    "plt.title('Stevilo registriranih elektricnih osebnih vozil po letih')\n",
    "plt.xlabel('leta')\n",
    "plt.ylabel('stevilo avtomobilov')\n",
    "\n",
    "plt.savefig('st_elek_po_letih.png', bbox_inches='tight')\n",
    "\n",
    "plt.show()"
   ]
  },
  {
   "cell_type": "markdown",
   "metadata": {},
   "source": [
    "Število registriranih električnih osebnih avtomobil v Sloveniji krepko narašča. V prvih dveh mesecih leta 2019 je bilo registriranih že več tovrstnih avtomobilov kot celega leta 2012."
   ]
  },
  {
   "cell_type": "code",
   "execution_count": 234,
   "metadata": {},
   "outputs": [
    {
     "data": {
      "image/png": "[encoded data removed]",
      "text/plain": [
       "<Figure size 800x400 with 1 Axes>"
      ]
     },
     "metadata": {
      "needs_background": "light"
     },
     "output_type": "display_data"
    }
   ],
   "source": [
    "tmp = sorted(znamke_skupaj.items(), key=lambda kv: -kv[1])\n",
    "znamke_sorted = collections.OrderedDict(tmp)\n",
    "\n",
    "x = range(len(znamke_sorted.keys()))\n",
    "labels_x = znamke_sorted.keys()\n",
    "y = znamke_sorted.values()\n",
    "w = 1.0\n",
    "\n",
    "plt.figure(figsize=(10, 5), dpi= 80)\n",
    "\n",
    "plt.bar(x, y)\n",
    "plt.ylim(top=200)\n",
    "plt.xticks(range(len(labels_x)), labels_x, rotation=75)\n",
    "\n",
    "for a,b in zip(x, y):\n",
    "    plt.text(a, b+2, str(b), ha='center')\n",
    "\n",
    "plt.xlabel('Znamke avtomobilov')\n",
    "plt.ylabel('Stevilo avtomobilov')\n",
    "plt.title('Najbolj popularne znamke elektricnih avtomobilov v Sloveniji')\n",
    "\n",
    "plt.savefig('popularnost_znamk_elektricnih.png', bbox_inches='tight')\n",
    "\n",
    "plt.show()"
   ]
  },
  {
   "cell_type": "markdown",
   "metadata": {},
   "source": [
    "V Sloveniji so najbolj popularni električni avtomobili znamke Renault, sledita ji znamki Nissan in BMW, kar nekaj avtomobilov pa je tudi znamk Smart, Hyundai in Volkswagen."
   ]
  },
  {
   "cell_type": "code",
   "execution_count": null,
   "metadata": {},
   "outputs": [],
   "source": []
  }
 ],
 "metadata": {
  "kernelspec": {
   "display_name": "Python 3",
   "language": "python",
   "name": "python3"
  },
  "language_info": {
   "codemirror_mode": {
    "name": "ipython",
    "version": 3
   },
   "file_extension": ".py",
   "mimetype": "text/x-python",
   "name": "python",
   "nbconvert_exporter": "python",
   "pygments_lexer": "ipython3",
   "version": "3.7.2"
  }
 },
 "nbformat": 4,
 "nbformat_minor": 2
}
