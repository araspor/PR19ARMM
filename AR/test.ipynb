{
 "cells": [
  {
   "cell_type": "markdown",
   "metadata": {},
   "source": [
    "### Branje podatkov"
   ]
  },
  {
   "cell_type": "code",
   "execution_count": 2,
   "metadata": {
    "scrolled": true
   },
   "outputs": [],
   "source": [
    "import pandas as pd\n",
    "import numpy as np\n",
    "import matplotlib.pyplot as plt\n",
    "import collections"
   ]
  },
  {
   "cell_type": "code",
   "execution_count": 3,
   "metadata": {
    "scrolled": true
   },
   "outputs": [],
   "source": [
    "stolpci = [0, 1, 4, 5, 6, 9, 10, 11, 12, 13, 14, 15, 16, 17, 18, 19, 20, 23, 24, 31, 32, 33, 47, 48, 49, 58, 59, 60, 65, 83, 89, 90, 91, 99, 100]\n",
    "mesec = ['Januar', 'Februar', 'Marec', 'April', 'Maj', 'Junij', 'Julij', 'Avgust', 'September', 'Oktober', 'November', 'December']\n",
    "tipi = {'B-Datum prve registracije vozila': str,\n",
    "         '2A-Datum prve registracije vozila v SLO': str, \n",
    "         'Status vozila (id)': float,\n",
    "         'Status vozila (opis)': str, \n",
    "         'Izvajalna enota prve registracije': str,\n",
    "         'C-Starost uporabnika vozila': float,\n",
    "         'C-Ali je uporabnik pravna ali fizicna oseba': str,\n",
    "         'C-Spol uporabnika (ce gre za fizicno osebo)': 'str',\n",
    "         'C-Ali je uporabnik tudi lastnik vozila': str,\n",
    "         'C1.3-Upravna enota uporabnika vozila (oznaka)': str,\n",
    "         'C1.3-Upravna enota uporabnika vozila (opis)': str,\n",
    "         'C1.3-Obcina uporabnika vozila (oznaka)': str,\n",
    "         'C1.3-Obcina uporabnika vozila (opis)': str,\n",
    "         'C2-Starost lastnika vozila': float,\n",
    "         'C2-Ali je lastnik pravna ali fizicna oseba': str,\n",
    "         'C2-Spol lastnika (ce gre za fizicno osebo)': str, \n",
    "         'D.1-Znamka': str,\n",
    "         'D.4.2-Drzava (opis)': str,\n",
    "         'D.4.2-Drzava (koda)':str,\n",
    "         'G-Masa vozila': float,\n",
    "         'J-Kategorija in vrsta vozila (oznaka)': str,\n",
    "         'J-Kategorija in vrsta vozila (opis)': str,\n",
    "         'P.1.2-Nazivna moc': str,\n",
    "         'P.1.3-Vrsta goriva (opis)': str,\n",
    "         'P.1.3-Vrsta goriva (oznaka)': str,\n",
    "         'R-Barva vozila (oznaka)': str,\n",
    "         'R-Barva vozila (opis)': str,\n",
    "         'S.1-Stevilo sedezev (vkljucno z vozniskim)': float,\n",
    "         'U.3-V voznji': str,\n",
    "         'V.8-Kombinirana poraba goriva': float,\n",
    "         'Y.1-Dolzina': float,\n",
    "         'Y.2-Sirina': float,\n",
    "         'Y.3-Visina': float,\n",
    "         'Komerc. oznaka  do prvega /': str,\n",
    "         '5A-Leto izdelave': str}\n",
    "\n",
    "dtype = {'B-Datum prve registracije vozila': 'str',\n",
    "         '2A-Datum prve registracije vozila v SLO': 'str', \n",
    "         'Status vozila (id)': 'float',\n",
    "         'Status vozila (opis)': 'str', \n",
    "         'Izvajalna enota prve registracije': 'str',\n",
    "         'C-Starost uporabnika vozila': 'float',\n",
    "         'C-Ali je uporabnik pravna ali fizicna oseba': 'str',\n",
    "         'C-Spol uporabnika (ce gre za fizicno osebo)': 'str',\n",
    "         'C-Ali je uporabnik tudi lastnik vozila': 'str',\n",
    "         'C1.3-Upravna enota uporabnika vozila (oznaka)': 'str',\n",
    "         'C1.3-Upravna enota uporabnika vozila (opis)': 'str',\n",
    "         'C1.3-Obcina uporabnika vozila (oznaka)': 'str',\n",
    "         'C1.3-Obcina uporabnika vozila (opis)': 'str',\n",
    "         'C2-Starost lastnika vozila': 'float',\n",
    "         'C2-Ali je lastnik pravna ali fizicna oseba': 'str',\n",
    "         'C2-Spol lastnika (ce gre za fizicno osebo)': 'str', \n",
    "         'D.1-Znamka': 'str',\n",
    "         'D.4.2-Drzava (opis)': 'str',\n",
    "         'D.4.2-Drzava (koda)':'str',\n",
    "         'G-Masa vozila': 'float',\n",
    "         'J-Kategorija in vrsta vozila (oznaka)': 'str',\n",
    "         'J-Kategorija in vrsta vozila (opis)': 'str',\n",
    "         'P.1.2-Nazivna moc': 'str',\n",
    "         'P.1.3-Vrsta goriva (opis)': 'str',\n",
    "         'P.1.3-Vrsta goriva (oznaka)': 'str',\n",
    "         'R-Barva vozila (oznaka)': 'str',\n",
    "         'R-Barva vozila (opis)': 'str',\n",
    "         'S.1-Stevilo sedezev (vkljucno z vozniskim)': 'float',\n",
    "         'U.3-V voznji': 'str',\n",
    "         'V.8-Kombinirana poraba goriva': 'float',\n",
    "         'Y.1-Dolzina': 'float',\n",
    "         'Y.2-Sirina': 'float',\n",
    "         'Y.3-Visina': 'float',\n",
    "         'Komerc. oznaka  do prvega /': 'str',\n",
    "         '5A-Leto izdelave': 'str'}"
   ]
  },
  {
   "cell_type": "code",
   "execution_count": 4,
   "metadata": {
    "scrolled": true
   },
   "outputs": [],
   "source": [
    "#df1501 = pd.read_csv(\"../data/2015/NPodatki_012015.csv\", encoding = 'latin1', sep=';', usecols=tipi, decimal = ',', low_memory=False)\n",
    "#df15 = [df1501, df1502, df1503, df1504, df1505, df1506, df1507, df1508, df1509, df1510, df1511, df1512]\n",
    "\n",
    "df1801 = pd.read_csv(\"../data/2018/Podatki_012018.csv\", encoding = 'cp1252', sep=';', usecols=stolpci, decimal =',', dtype=tipi)\n",
    "df1802 = pd.read_csv(\"../data/2018/Podatki_022018.csv\", encoding = 'cp1252', sep=';', usecols=stolpci, decimal =',', dtype=tipi)\n",
    "df1803 = pd.read_csv(\"../data/2018/Podatki_032018.csv\", encoding = 'cp1252', sep=';', usecols=stolpci, decimal =',', dtype=tipi)\n",
    "df1804 = pd.read_csv(\"../data/2018/Podatki_042018.csv\", encoding = 'cp1252', sep=';', usecols=stolpci, decimal =',', dtype=tipi)\n",
    "df1805 = pd.read_csv(\"../data/2018/Podatki_052018.csv\", encoding = 'cp1252', sep=';', usecols=stolpci, decimal =',', dtype=tipi)\n",
    "df1806 = pd.read_csv(\"../data/2018/Podatki_062018.csv\", encoding = 'cp1252', sep=';', usecols=stolpci, decimal =',', dtype=tipi)\n",
    "df1807 = pd.read_csv(\"../data/2018/Podatki_072018.csv\", encoding = 'cp1252', sep=';', usecols=stolpci, decimal =',', dtype=tipi)\n",
    "df1808 = pd.read_csv(\"../data/2018/Podatki_082018.csv\", encoding = 'cp1252', sep=';', usecols=stolpci, decimal =',', dtype=tipi)\n",
    "df1809 = pd.read_csv(\"../data/2018/Podatki_092018.csv\", encoding = 'cp1252', sep=';', usecols=stolpci, decimal =',', dtype=tipi)\n",
    "df1810 = pd.read_csv(\"../data/2018/Podatki_102018.csv\", encoding = 'cp1252', sep=';', usecols=stolpci, decimal =',', dtype=tipi)\n",
    "df1811 = pd.read_csv(\"../data/2018/Podatki_112018.csv\", encoding = 'cp1252', sep=';', usecols=stolpci, decimal =',', dtype=tipi)\n",
    "df1812 = pd.read_csv(\"../data/2018/Podatki_122018.csv\", encoding = 'cp1252', sep=';', usecols=stolpci, decimal =',', dtype=tipi)\n",
    "df18 = [df1801, df1802, df1803, df1804, df1805, df1806, df1807, df1808, df1809, df1810, df1811, df1812]\n",
    "data18 = pd.concat(df18, sort=False)"
   ]
  },
  {
   "cell_type": "code",
   "execution_count": 5,
   "metadata": {},
   "outputs": [],
   "source": [
    "df1501 = pd.read_csv(\"../data/2015/NPodatki_012015.csv\", encoding = 'cp1252', sep=';', usecols=stolpci, decimal =',', dtype=dtype)\n",
    "df1502 = pd.read_csv(\"../data/2015/NPodatki_022015.csv\", encoding = 'cp1252', sep=';', usecols=stolpci, decimal =',', dtype=dtype)\n",
    "df1503 = pd.read_csv(\"../data/2015/NPodatki_032015.csv\", encoding = 'cp1252', sep=';', usecols=stolpci, decimal =',', dtype=dtype)\n",
    "df1504 = pd.read_csv(\"../data/2015/NPodatki_042015.csv\", encoding = 'cp1252', sep=';', usecols=stolpci, decimal =',', dtype=dtype)\n",
    "df1505 = pd.read_csv(\"../data/2015/NPodatki_052015.csv\", encoding = 'cp1252', sep=';', usecols=stolpci, decimal =',', dtype=dtype)\n",
    "df1506 = pd.read_csv(\"../data/2015/NPodatki_062015.csv\", encoding = 'cp1252', sep=';', usecols=stolpci, decimal =',', dtype=dtype)\n",
    "df1507 = pd.read_csv(\"../data/2015/NPodatki_072015.csv\", encoding = 'cp1252', sep=';', usecols=stolpci, decimal =',', dtype=dtype)\n",
    "df1508 = pd.read_csv(\"../data/2015/NPodatki_082015.csv\", encoding = 'cp1252', sep=';', usecols=stolpci, decimal =',', dtype=dtype)\n",
    "df1509 = pd.read_csv(\"../data/2015/NPodatki_092015.csv\", encoding = 'cp1252', sep=';', usecols=stolpci, decimal =',', dtype=dtype)\n",
    "df1510 = pd.read_csv(\"../data/2015/NPodatki_102015.csv\", encoding = 'cp1252', sep=';', usecols=stolpci, decimal =',', dtype=dtype)\n",
    "df1511 = pd.read_csv(\"../data/2015/NPodatki_112015.csv\", encoding = 'cp1252', sep=';', usecols=stolpci, decimal =',', dtype=dtype)\n",
    "df1512 = pd.read_csv(\"../data/2015/NPodatki_122015.csv\", encoding = 'cp1252', sep=';', usecols=stolpci, decimal =',', dtype=dtype)\n",
    "df15 = [df1501, df1502, df1503, df1504, df1505, df1506, df1507, df1508, df1509, df1510, df1511, df1512]\n",
    "data15 = pd.concat(df15, sort=False)"
   ]
  },
  {
   "cell_type": "code",
   "execution_count": 6,
   "metadata": {},
   "outputs": [],
   "source": [
    "df1901 = pd.read_csv(\"../data/2019/Podatki_012019.csv\", encoding = 'cp1252', sep=';', usecols=stolpci, decimal =',', dtype=dtype)\n",
    "df1902 = pd.read_csv(\"../data/2019/Podatki_022019.csv\", encoding = 'cp1252', sep=';', usecols=stolpci, decimal =',', dtype=dtype)\n",
    "df19 = [df1901, df1902]\n",
    "data19 = pd.concat(df19, sort=False)"
   ]
  },
  {
   "cell_type": "code",
   "execution_count": 7,
   "metadata": {},
   "outputs": [
    {
     "name": "stderr",
     "output_type": "stream",
     "text": [
      "/home/andraz/miniconda3/lib/python3.7/site-packages/IPython/core/interactiveshell.py:3044: DtypeWarning: Columns (44,46,48,49,50,51) have mixed types. Specify dtype option on import or set low_memory=False.\n",
      "  interactivity=interactivity, compiler=compiler, result=result)\n"
     ]
    },
    {
     "data": {
      "text/plain": [
       "Index(['ID', 'Datum prve registracije', 'Datum prve registracije Slo',\n",
       "       'Datum statusa vozila', 'Datum coc', 'Vrsta goriva',\n",
       "       'Kategorija vozila - oznaka', 'Kategorija vozila - opis',\n",
       "       'Šifra nadgradnje', 'Dodatna nadgradnja', 'Opis namen vozila',\n",
       "       'Barva vozila - šifra', 'Znamka', 'Država proizvajalka',\n",
       "       'Tovarniška oznaka vozila', 'Komercialna oznaka vozila',\n",
       "       'Komercialni tip vozila', 'Delovna prostornina', 'Najveèja neto moè',\n",
       "       'Dolžina', 'Širina', 'Višina', 'Dov pnevmatike in platišèa',\n",
       "       'Indentifikacijska koda (traktorji)', 'VIN', 'Izvajalna enota',\n",
       "       'Vrsta potrdila', 'Masa vozila', 'Najveèja tehdovmasa vozila',\n",
       "       'Medosje', 'Število osi', 'Število sedežev', 'Leto izdelave',\n",
       "       'Obèina - šifra', 'Upravna enota - šifra',\n",
       "       'Reg obmoèje oznaka na tablici', 'Podvrsta reg tablice',\n",
       "       'Status vozila - šifra', 'Starost uporabnika',\n",
       "       'Uporabnik fizièna/pravna oseba', 'Starost lastnika',\n",
       "       'Lastnik fizièna/pravna oseba', 'Spol lastnika',\n",
       "       'Lastnik=Uporabnik (1:DA,2:NE)', 'Co2', 'Spol uporabnika',\n",
       "       'Hrup v mirovanju', 'Hrup v vožnji', 'Co', 'Hc', 'Nox', 'Hc Nox',\n",
       "       'Delci pri dizel motorjih', 'Kombinirana poraba goriva'],\n",
       "      dtype='object')"
      ]
     },
     "execution_count": 7,
     "metadata": {},
     "output_type": "execute_result"
    }
   ],
   "source": [
    "df12 = pd.read_csv(\"../data/2012/Vozila2012-1stRegs.csv\", encoding = 'cp1252',sep=';', decimal =',', dtype=tipi)\n",
    "df12.columns"
   ]
  },
  {
   "cell_type": "code",
   "execution_count": 28,
   "metadata": {},
   "outputs": [
    {
     "data": {
      "text/plain": [
       "array(['D', 'P', '-', 'M', 'P/LPG', 'XXX', 'P/CNG', 'CNG', 'P/ET',\n",
       "       'D/LPG', 'D/BD'], dtype=object)"
      ]
     },
     "execution_count": 28,
     "metadata": {},
     "output_type": "execute_result"
    }
   ],
   "source": [
    "df12['Vrsta goriva'].unique()"
   ]
  },
  {
   "cell_type": "code",
   "execution_count": 11,
   "metadata": {},
   "outputs": [
    {
     "data": {
      "text/plain": [
       "array(['D', 'P', '-', 'M', 'P/LPG', 'XXX', 'CNG', 'P/CNG', 'LPG', 'P/ET'],\n",
       "      dtype=object)"
      ]
     },
     "execution_count": 11,
     "metadata": {},
     "output_type": "execute_result"
    }
   ],
   "source": [
    "data18['P.1.3-Vrsta goriva (oznaka)'].unique()"
   ]
  },
  {
   "cell_type": "markdown",
   "metadata": {},
   "source": [
    "## Ali se Slovenci v zadnjih letih raje odločajo za električna vozila?\n",
    "Pri tej hipotezi naju je zanimalo ali se število električnih avtomobilov v Sloveniji povečuje. Glede na to, da so se električni avtomobili v zadnjih letih zelo razvili ter so sedaj veliko bolj učinkoviti, močnejši ter cenejši kot včasih, sva pričakovala narastek v registracijah električnih avtomobilov. \n",
    "\n",
    "Vzela sva podatke iz let 2012, 2015, 2018 in prvih dveh mesecev leta 2019, da bi lahko primerjala število električnih avtomobilov skozi leta. Izkazalo se je, da sva sklepala pravilno. Število na novo registriranih električnih avtomobilov iz leta v leto narašča. Leta 2012 je bilo namreč registriranih le 24 takšnih osebnih vozil, leta 2015 je to število krepko naraslo na 144 električnih avtomobilov, leta 2018 pa je bilo registriranih 569 električnih avtomobilov. V januarju in februarju letošnjega leta je bilo že registriranih 99 električnih osebnih vozil. Vse to je razvidno iz grafa, kjer je prikazano število registracij vsako leto."
   ]
  },
  {
   "cell_type": "code",
   "execution_count": 8,
   "metadata": {},
   "outputs": [],
   "source": [
    "# 2012\n",
    "osebna_vozila12 = df12[df12['Kategorija vozila - oznaka'] == 'M1']\n",
    "elektricna_osebna12 = osebna_vozila12[osebna_vozila12['Vrsta goriva'] == '-']\n",
    "znamka12 = elektricna_osebna12['Znamka']\n",
    "oznaka12 = elektricna_osebna12['Komercialna oznaka vozila']\n",
    "\n",
    "# 2015\n",
    "osebna_vozila15 = data15[data15['J-Kategorija in vrsta vozila (oznaka)'] == 'M1']\n",
    "elektricna_osebna15 = osebna_vozila15[osebna_vozila15['P.1.3-Vrsta goriva (oznaka)'] == '-']\n",
    "znamka15 = elektricna_osebna15['D.1-Znamka']\n",
    "oznaka15 = elektricna_osebna15['Komerc. oznaka  do prvega /']\n",
    "\n",
    "# 2018\n",
    "osebna_vozila18 = data18[data18['J-Kategorija in vrsta vozila (oznaka)'] == 'M1']\n",
    "elektricna_osebna18 = osebna_vozila18[osebna_vozila18['P.1.3-Vrsta goriva (oznaka)'] == '-']\n",
    "znamka18 = elektricna_osebna18['D.1-Znamka']\n",
    "oznaka18 = elektricna_osebna18['Komerc. oznaka  do prvega /']\n",
    "\n",
    "# 2019\n",
    "osebna_vozila19 = data19[data19['J-Kategorija in vrsta vozila (oznaka)'] == 'M1']\n",
    "elektricna_osebna19 = osebna_vozila19[osebna_vozila19['P.1.3-Vrsta goriva (oznaka)'] == '-']\n",
    "znamka19 = elektricna_osebna19['D.1-Znamka']\n",
    "oznaka19 = elektricna_osebna19['Komerc. oznaka  do prvega /']"
   ]
  },
  {
   "cell_type": "code",
   "execution_count": 9,
   "metadata": {},
   "outputs": [
    {
     "data": {
      "text/plain": [
       "defaultdict(int,\n",
       "            {'BMW I': 107,\n",
       "             'TESLA': 15,\n",
       "             'NISSAN': 109,\n",
       "             'VOLKSWAGEN': 46,\n",
       "             'SMART': 84,\n",
       "             'RENAULT': 113,\n",
       "             'PEUGEOT': 9,\n",
       "             'KIA': 11,\n",
       "             'HYUNDAI': 45,\n",
       "             'MITSUBISHI': 4,\n",
       "             'AUDI': 2,\n",
       "             'CITROEN': 12,\n",
       "             'ŠKODA': 1,\n",
       "             'MERCEDES BENZ': 2,\n",
       "             'FIAT': 7,\n",
       "             'MIA': 1,\n",
       "             'MAZDA': 1})"
      ]
     },
     "execution_count": 9,
     "metadata": {},
     "output_type": "execute_result"
    }
   ],
   "source": [
    "znamke_skupaj = collections.defaultdict(int)\n",
    "el_avti = collections.defaultdict(int)\n",
    "for z in znamka18.values:\n",
    "    el_avti[z] += 1\n",
    "    znamke_skupaj[z] += 1\n",
    "    #el_avti[z] = (oznaka.values[i])\n",
    "el_avti"
   ]
  },
  {
   "cell_type": "code",
   "execution_count": 10,
   "metadata": {},
   "outputs": [
    {
     "data": {
      "text/plain": [
       "defaultdict(int,\n",
       "            {'NISSAN': 13,\n",
       "             'RENAULT': 9,\n",
       "             'SMART': 4,\n",
       "             'TESLA': 4,\n",
       "             'HYUNDAI': 46,\n",
       "             'CITROEN': 4,\n",
       "             'BMW I': 16,\n",
       "             'VOLKSWAGEN': 2,\n",
       "             'PEUGEOT': 1})"
      ]
     },
     "execution_count": 10,
     "metadata": {},
     "output_type": "execute_result"
    }
   ],
   "source": [
    "el_avti19 = collections.defaultdict(int)\n",
    "for z in znamka19.values:\n",
    "    el_avti19[z] += 1\n",
    "    znamke_skupaj[z] += 1\n",
    "    #el_avti[z] = (oznaka.values[i])\n",
    "el_avti19"
   ]
  },
  {
   "cell_type": "code",
   "execution_count": 11,
   "metadata": {},
   "outputs": [
    {
     "data": {
      "text/plain": [
       "defaultdict(int, {'PEUGEOT': 13, 'NISSAN': 2, 'CITROEN': 8, 'FIAT': 1})"
      ]
     },
     "execution_count": 11,
     "metadata": {},
     "output_type": "execute_result"
    }
   ],
   "source": [
    "el_avti12 = collections.defaultdict(int)\n",
    "for z in znamka12.values:\n",
    "    el_avti12[z] += 1\n",
    "    znamke_skupaj[z] += 1\n",
    "    #el_avti[z] = (oznaka.values[i])\n",
    "el_avti12"
   ]
  },
  {
   "cell_type": "code",
   "execution_count": 12,
   "metadata": {},
   "outputs": [
    {
     "data": {
      "text/plain": [
       "defaultdict(int,\n",
       "            {'SMART': 18,\n",
       "             'TESLA': 10,\n",
       "             'RENAULT': 48,\n",
       "             'BMW I': 18,\n",
       "             'NISSAN': 20,\n",
       "             'MITSUBISHI': 1,\n",
       "             'VOLKSWAGEN': 15,\n",
       "             'CITROEN': 9,\n",
       "             'PEUGEOT': 1,\n",
       "             'MERCEDES BENZ': 1,\n",
       "             'KIA': 3})"
      ]
     },
     "execution_count": 12,
     "metadata": {},
     "output_type": "execute_result"
    }
   ],
   "source": [
    "el_avti15 = collections.defaultdict(int)\n",
    "for z in znamka15.values:\n",
    "    el_avti15[z] += 1\n",
    "    znamke_skupaj[z] += 1\n",
    "    #el_avti[z] = (oznaka.values[i])\n",
    "el_avti15"
   ]
  },
  {
   "cell_type": "code",
   "execution_count": 13,
   "metadata": {},
   "outputs": [],
   "source": [
    "st_el12 = sum(el_avti12.values())\n",
    "st_el15 = sum(el_avti15.values())\n",
    "st_el18 = sum(el_avti.values())\n",
    "st_el19 = sum(el_avti19.values())"
   ]
  },
  {
   "cell_type": "code",
   "execution_count": 16,
   "metadata": {},
   "outputs": [
    {
     "data": {
      "image/png": "[encoded data removed]",
      "text/plain": [
       "<Figure size 640x400 with 1 Axes>"
      ]
     },
     "metadata": {
      "needs_background": "light"
     },
     "output_type": "display_data"
    }
   ],
   "source": [
    "x = np.arange(4)\n",
    "y = [st_el12, st_el15, st_el18, st_el19]\n",
    "\n",
    "plt.figure(figsize=(8, 5), dpi= 80)\n",
    "\n",
    "plt.bar(x, y)\n",
    "plt.xticks(x, ('2012', '2015', '2018', '2019 (jan, feb)'))\n",
    "plt.ylim(top = 600)\n",
    "plt.title('Stevilo registriranih elektricnih osebnih vozil po letih')\n",
    "plt.xlabel('leta')\n",
    "plt.ylabel('stevilo avtomobilov')\n",
    "\n",
    "for a,b in zip(x, y):\n",
    "    plt.text(a, b+5, str(b), ha='center')\n",
    "\n",
    "plt.savefig('st_elek_po_letih.png', bbox_inches='tight')\n",
    "\n",
    "plt.show()"
   ]
  },
  {
   "cell_type": "markdown",
   "metadata": {},
   "source": [
    "Število registriranih električnih osebnih avtomobil v Sloveniji krepko narašča. V prvih dveh mesecih leta 2019 je bilo registriranih že več tovrstnih avtomobilov kot celega leta 2012."
   ]
  },
  {
   "cell_type": "code",
   "execution_count": 234,
   "metadata": {},
   "outputs": [
    {
     "data": {
      "image/png": "[encoded data removed]",
      "text/plain": [
       "<Figure size 800x400 with 1 Axes>"
      ]
     },
     "metadata": {
      "needs_background": "light"
     },
     "output_type": "display_data"
    }
   ],
   "source": [
    "tmp = sorted(znamke_skupaj.items(), key=lambda kv: -kv[1])\n",
    "znamke_sorted = collections.OrderedDict(tmp)\n",
    "\n",
    "x = range(len(znamke_sorted.keys()))\n",
    "labels_x = znamke_sorted.keys()\n",
    "y = znamke_sorted.values()\n",
    "w = 1.0\n",
    "\n",
    "plt.figure(figsize=(10, 5), dpi= 80)\n",
    "\n",
    "plt.bar(x, y)\n",
    "plt.ylim(top=200)\n",
    "plt.xticks(range(len(labels_x)), labels_x, rotation=75)\n",
    "\n",
    "for a,b in zip(x, y):\n",
    "    plt.text(a, b+2, str(b), ha='center')\n",
    "\n",
    "plt.xlabel('Znamke avtomobilov')\n",
    "plt.ylabel('Stevilo avtomobilov')\n",
    "plt.title('Najbolj popularne znamke elektricnih avtomobilov v Sloveniji')\n",
    "\n",
    "plt.savefig('popularnost_znamk_elektricnih.png', bbox_inches='tight')\n",
    "\n",
    "plt.show()"
   ]
  },
  {
   "cell_type": "markdown",
   "metadata": {},
   "source": [
    "Zanimalo naju je tudi, katera znamka je najbolj popularna v Sloveniji. Iz zgornjega grafa je razvidno, da je največ registriranih avtomobilov znamke Renault, blizu sta ji Nissan in BMW, kar nekaj avtomobilov pa je tudi znamk Smart, Hyundai in Volkswagen. To so števila za leta 2012, 2015 in 2018 skupaj. "
   ]
  },
  {
   "cell_type": "markdown",
   "metadata": {},
   "source": [
    "## V katerem starostnem obdobju se prebivalci Slovenije raje odločajo za električna vozila, ali na to vpliva tudi spol?\n",
    "Ker se je število električnih avtomobilov krepko povečalo, naju je zanimalo ali na nakup električnih vozil vplivata starost in spol uporabnika. Sklepava, da se za tovrstne avtomobile odločajo starejše starostne skupine, misliva pa da spol nima prevelikega vpliva na to.\n"
   ]
  },
  {
   "cell_type": "code",
   "execution_count": 35,
   "metadata": {},
   "outputs": [],
   "source": [
    "#'C-Starost uporabnika vozila': float,\n",
    "#'C-Ali je uporabnik pravna ali fizicna oseba': str,\n",
    "#'C-Spol uporabnika (ce gre za fizicno osebo)': 'str',\n",
    "moski18 = elektricna_osebna18[elektricna_osebna18['C-Spol uporabnika (ce gre za fizicno osebo)'] == 'M']\n",
    "zenske18 = elektricna_osebna18[elektricna_osebna18['C-Spol uporabnika (ce gre za fizicno osebo)'] == 'Z']\n",
    "\n",
    "moski15 = elektricna_osebna15[elektricna_osebna15['C-Spol uporabnika (ce gre za fizicno osebo)'] == 'M']\n",
    "zenske15 = elektricna_osebna15[elektricna_osebna15['C-Spol uporabnika (ce gre za fizicno osebo)'] == 'Z']\n",
    "\n",
    "moski19 = elektricna_osebna19[elektricna_osebna19['C-Spol uporabnika (ce gre za fizicno osebo)'] == 'M']\n",
    "zenske19 = elektricna_osebna19[elektricna_osebna19['C-Spol uporabnika (ce gre za fizicno osebo)'] == 'Z']\n",
    "\n",
    "moski12 = elektricna_osebna12[elektricna_osebna12['Spol uporabnika'] == 'M']\n",
    "zenske12 = elektricna_osebna12[elektricna_osebna12['Spol uporabnika'] == 'Ž']"
   ]
  },
  {
   "cell_type": "code",
   "execution_count": 38,
   "metadata": {},
   "outputs": [
    {
     "data": {
      "image/png": "[encoded data removed]",
      "text/plain": [
       "<Figure size 640x400 with 1 Axes>"
      ]
     },
     "metadata": {
      "needs_background": "light"
     },
     "output_type": "display_data"
    }
   ],
   "source": [
    "moski_elek = len(moski18) + len(moski15) + len(moski19) + len(moski12)\n",
    "zenske_elek = len(zenske18) + len(zenske15) + len(zenske19) + len(zenske12)\n",
    "\n",
    "x = np.arange(2)\n",
    "y = [moski_elek, zenske_elek]\n",
    "\n",
    "plt.figure(figsize=(8, 5), dpi= 80)\n",
    "\n",
    "plt.bar(x, y)\n",
    "plt.xticks(x, ('Moški', 'Ženske'))\n",
    "plt.ylim(top = 600)\n",
    "plt.title('Število registriranih električnih avtomobilov glede na spol')\n",
    "plt.xlabel('Spol')\n",
    "plt.ylabel('Število avtomobilov')\n",
    "\n",
    "for a,b in zip(x, y):\n",
    "    plt.text(a, b+5, str(b), ha='center')\n",
    "\n",
    "plt.savefig('st_elek_spol.png', bbox_inches='tight')\n",
    "\n",
    "plt.show()"
   ]
  },
  {
   "cell_type": "markdown",
   "metadata": {},
   "source": [
    "Vidimo, da so moški registrirali več električnih avtomobilov kot ženske. Približno polovica vseh električnih avtomobilov v teh treh letih je bila registrirana s strani fizicnih oseb (387 iz zgornjega grafa), ostala pa iz strani pravnih oseb. Poglejmo še to razmerje."
   ]
  },
  {
   "cell_type": "code",
   "execution_count": 45,
   "metadata": {},
   "outputs": [],
   "source": [
    "pravne18 = elektricna_osebna18[elektricna_osebna18['C-Ali je uporabnik pravna ali fizicna oseba'] == 'P']\n",
    "pravne19 = elektricna_osebna19[elektricna_osebna19['C-Ali je uporabnik pravna ali fizicna oseba'] == 'P']\n",
    "pravne15 = elektricna_osebna15[elektricna_osebna15['C-Ali je uporabnik pravna ali fizicna oseba'] == 'P']\n",
    "pravne12 = elektricna_osebna12[elektricna_osebna12['Uporabnik fizièna/pravna oseba'] == 'P']"
   ]
  },
  {
   "cell_type": "code",
   "execution_count": 52,
   "metadata": {},
   "outputs": [
    {
     "data": {
      "image/png": "[encoded data removed]",
      "text/plain": [
       "<Figure size 640x400 with 1 Axes>"
      ]
     },
     "metadata": {
      "needs_background": "light"
     },
     "output_type": "display_data"
    }
   ],
   "source": [
    "pravne_elek = len(pravne18) + len(pravne19) + len(pravne15) + len(pravne12)\n",
    "fizicne_elek = moski_elek + zenske_elek\n",
    "\n",
    "x = np.arange(2)\n",
    "y = [pravne_elek, fizicne_elek]\n",
    "\n",
    "plt.figure(figsize=(8, 5), dpi= 80)\n",
    "\n",
    "plt.bar(x, y)\n",
    "plt.xticks(x, ('Pravne osebe', 'Fizične osebe'))\n",
    "plt.ylim(top = 600)\n",
    "plt.title('Število registriranih električnih avtomobilov glede na uporabnika')\n",
    "plt.xlabel('Pravna/fizična oseba')\n",
    "plt.ylabel('Število avtomobilov')\n",
    "\n",
    "for a,b in zip(x, y):\n",
    "    plt.text(a, b+5, str(b), ha='center')\n",
    "\n",
    "plt.savefig('st_elek_pravna.png', bbox_inches='tight')\n",
    "\n",
    "plt.show()"
   ]
  },
  {
   "cell_type": "markdown",
   "metadata": {},
   "source": [
    "Več kot polovico vseh električnih osebnih vozil uporabljajo pravne osebe."
   ]
  },
  {
   "cell_type": "code",
   "execution_count": null,
   "metadata": {},
   "outputs": [],
   "source": []
  }
 ],
 "metadata": {
  "kernelspec": {
   "display_name": "Python 3",
   "language": "python",
   "name": "python3"
  },
  "language_info": {
   "codemirror_mode": {
    "name": "ipython",
    "version": 3
   },
   "file_extension": ".py",
   "mimetype": "text/x-python",
   "name": "python",
   "nbconvert_exporter": "python",
   "pygments_lexer": "ipython3",
   "version": "3.7.2"
  }
 },
 "nbformat": 4,
 "nbformat_minor": 2
}
