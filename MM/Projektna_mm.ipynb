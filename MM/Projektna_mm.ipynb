{
 "cells": [
  {
   "cell_type": "code",
   "execution_count": 26,
   "metadata": {},
   "outputs": [],
   "source": [
    "## Ali so v zadnjih nekaj letih boljo popularna dizelska ali bencinska vozila?\n"
   ]
  },
  {
   "cell_type": "code",
   "execution_count": 2,
   "metadata": {},
   "outputs": [],
   "source": [
    "import pandas as pd\n",
    "import numpy as np\n",
    "import matplotlib.pyplot as plt"
   ]
  },
  {
   "cell_type": "code",
   "execution_count": 3,
   "metadata": {},
   "outputs": [],
   "source": [
    "stolpci = [0, 1, 4, 5, 6, 9, 10, 11, 12, 13, 14, 15, 16, 17, 18, 19, 20, 23, 24, 31, 32, 33, 47, 48, 49, 58, 59, 60, 65, 83, 89, 90, 91, 99, 100]\n",
    "mesec = ['Januar', 'Februar', 'Marec', 'April', 'Maj', 'Junij', 'Julij', 'Avgust', 'September', 'Oktober', 'November', 'December']\n",
    "leto = ['2012', '2015', '2018', '2019']\n",
    "mesta = ['Ljubljana', 'Maribor','Celje','Kranj', 'Koper', 'Velenje', 'Novo Mesto', 'Ptuj','Trbovlje', 'Kamnik']\n",
    "id_mesta = ['061', '070', '003', '052', '050', '133', '085','096', '129', '043']\n",
    "#mesta = ['Ljubljana', 'Maribor', 'Koper', 'Kranj', 'Ptuj', 'Laško', 'Nova Gorica', 'Celje']\n",
    "#id_mesta = ['061', '070', '050', '052', '096', '057', '084', '003']\n",
    "tipi = {'B-Datum prve registracije vozila': str,\n",
    "         '2A-Datum prve registracije vozila v SLO': str, \n",
    "         'Status vozila (id)': float,\n",
    "         'Status vozila (opis)': str, \n",
    "         'Izvajalna enota prve registracije': str,\n",
    "         'C-Starost uporabnika vozila': float,\n",
    "         'C-Ali je uporabnik pravna ali fizicna oseba': str,\n",
    "         'C-Spol uporabnika (ce gre za fizicno osebo)': 'str',\n",
    "         'C-Ali je uporabnik tudi lastnik vozila': str,\n",
    "         'C1.3-Upravna enota uporabnika vozila (oznaka)': str,\n",
    "         'C1.3-Upravna enota uporabnika vozila (opis)': str,\n",
    "         'C1.3-Obcina uporabnika vozila (oznaka)': str,\n",
    "         'C1.3-Obcina uporabnika vozila (opis)': str,\n",
    "         'C2-Starost lastnika vozila': float,\n",
    "         'C2-Ali je lastnik pravna ali fizicna oseba': str,\n",
    "         'C2-Spol lastnika (ce gre za fizicno osebo)': str, \n",
    "         'D.1-Znamka': str,\n",
    "         'D.4.2-Drzava (opis)': str,\n",
    "         'D.4.2-Drzava (koda)':str,\n",
    "         'G-Masa vozila': float,\n",
    "         'J-Kategorija in vrsta vozila (oznaka)': str,\n",
    "         'J-Kategorija in vrsta vozila (opis)': str,\n",
    "         'P.1.2-Nazivna moc': str,\n",
    "         'P.1.3-Vrsta goriva (opis)': str,\n",
    "         'P.1.3-Vrsta goriva (oznaka)': str,\n",
    "         'R-Barva vozila (oznaka)': str,\n",
    "         'R-Barva vozila (opis)': str,\n",
    "         'S.1-Stevilo sedezev (vkljucno z vozniskim)': float,\n",
    "         'U.3-V voznji': str,\n",
    "         'V.8-Kombinirana poraba goriva': float,\n",
    "         'Y.1-Dolzina': float,\n",
    "         'Y.2-Sirina': float,\n",
    "         'Y.3-Visina': float,\n",
    "         'Komerc. oznaka  do prvega /': str,\n",
    "         '5A-Leto izdelave': str}\n",
    "\n",
    "dtype = {'B-Datum prve registracije vozila': 'str',\n",
    "         '2A-Datum prve registracije vozila v SLO': 'str', \n",
    "         'Status vozila (id)': 'float',\n",
    "         'Status vozila (opis)': 'str', \n",
    "         'Izvajalna enota prve registracije': 'str',\n",
    "         'C-Starost uporabnika vozila': 'float',\n",
    "         'C-Ali je uporabnik pravna ali fizicna oseba': 'str',\n",
    "         'C-Spol uporabnika (ce gre za fizicno osebo)': 'str',\n",
    "         'C-Ali je uporabnik tudi lastnik vozila': 'str',\n",
    "         'C1.3-Upravna enota uporabnika vozila (oznaka)': 'str',\n",
    "         'C1.3-Upravna enota uporabnika vozila (opis)': 'str',\n",
    "         'C1.3-Obcina uporabnika vozila (oznaka)': 'str',\n",
    "         'C1.3-Obcina uporabnika vozila (opis)': 'str',\n",
    "         'C2-Starost lastnika vozila': 'float',\n",
    "         'C2-Ali je lastnik pravna ali fizicna oseba': 'str',\n",
    "         'C2-Spol lastnika (ce gre za fizicno osebo)': 'str', \n",
    "         'D.1-Znamka': 'str',\n",
    "         'D.4.2-Drzava (opis)': 'str',\n",
    "         'D.4.2-Drzava (koda)':'str',\n",
    "         'G-Masa vozila': 'float',\n",
    "         'J-Kategorija in vrsta vozila (oznaka)': 'str',\n",
    "         'J-Kategorija in vrsta vozila (opis)': 'str',\n",
    "         'P.1.2-Nazivna moc': 'str',\n",
    "         'P.1.3-Vrsta goriva (opis)': 'str',\n",
    "         'P.1.3-Vrsta goriva (oznaka)': 'str',\n",
    "         'R-Barva vozila (oznaka)': 'str',\n",
    "         'R-Barva vozila (opis)': 'str',\n",
    "         'S.1-Stevilo sedezev (vkljucno z vozniskim)': 'float',\n",
    "         'U.3-V voznji': 'str',\n",
    "         'V.8-Kombinirana poraba goriva': 'float',\n",
    "         'Y.1-Dolzina': 'float',\n",
    "         'Y.2-Sirina': 'float',\n",
    "         'Y.3-Visina': 'float',\n",
    "         'Komerc. oznaka  do prvega /': 'str',\n",
    "         '5A-Leto izdelave': 'str'}"
   ]
  },
  {
   "cell_type": "code",
   "execution_count": 4,
   "metadata": {},
   "outputs": [
    {
     "name": "stderr",
     "output_type": "stream",
     "text": [
      "D:\\Program Files\\Anaconda3\\lib\\site-packages\\IPython\\core\\interactiveshell.py:3020: DtypeWarning: Columns (44,46,48,49,50,51) have mixed types. Specify dtype option on import or set low_memory=False.\n",
      "  interactivity=interactivity, compiler=compiler, result=result)\n"
     ]
    }
   ],
   "source": [
    "df12 = pd.read_csv(\"../data/2012/Vozila2012-1stRegs.csv\", encoding = 'cp1252', usecols=range(1,54),sep=';', decimal =',', dtype=dtype)\n",
    "data12 = df12\n",
    "\n",
    "df1501 = pd.read_csv(\"../data/2015/NPodatki_012015.csv\", encoding = 'cp1252', sep=';', usecols=stolpci, decimal =',', dtype=dtype)\n",
    "df1502 = pd.read_csv(\"../data/2015/NPodatki_022015.csv\", encoding = 'cp1252', sep=';', usecols=stolpci, decimal =',', dtype=dtype)\n",
    "df1503 = pd.read_csv(\"../data/2015/NPodatki_032015.csv\", encoding = 'cp1252', sep=';', usecols=stolpci, decimal =',', dtype=dtype)\n",
    "df1504 = pd.read_csv(\"../data/2015/NPodatki_042015.csv\", encoding = 'cp1252', sep=';', usecols=stolpci, decimal =',', dtype=dtype)\n",
    "df1505 = pd.read_csv(\"../data/2015/NPodatki_052015.csv\", encoding = 'cp1252', sep=';', usecols=stolpci, decimal =',', dtype=dtype)\n",
    "df1506 = pd.read_csv(\"../data/2015/NPodatki_062015.csv\", encoding = 'cp1252', sep=';', usecols=stolpci, decimal =',', dtype=dtype)\n",
    "df1507 = pd.read_csv(\"../data/2015/NPodatki_072015.csv\", encoding = 'cp1252', sep=';', usecols=stolpci, decimal =',', dtype=dtype)\n",
    "df1508 = pd.read_csv(\"../data/2015/NPodatki_082015.csv\", encoding = 'cp1252', sep=';', usecols=stolpci, decimal =',', dtype=dtype)\n",
    "df1509 = pd.read_csv(\"../data/2015/NPodatki_092015.csv\", encoding = 'cp1252', sep=';', usecols=stolpci, decimal =',', dtype=dtype)\n",
    "df1510 = pd.read_csv(\"../data/2015/NPodatki_102015.csv\", encoding = 'cp1252', sep=';', usecols=stolpci, decimal =',', dtype=dtype)\n",
    "df1511 = pd.read_csv(\"../data/2015/NPodatki_112015.csv\", encoding = 'cp1252', sep=';', usecols=stolpci, decimal =',', dtype=dtype)\n",
    "df1512 = pd.read_csv(\"../data/2015/NPodatki_122015.csv\", encoding = 'cp1252', sep=';', usecols=stolpci, decimal =',', dtype=dtype)\n",
    "df15 = [df1501, df1502, df1503, df1504, df1505, df1506, df1507, df1508, df1509, df1510, df1511, df1512]\n",
    "data15 = pd.concat(df15, sort=False)\n",
    "\n",
    "df1801 = pd.read_csv(\"../data/2018/Podatki_012018.csv\", encoding = 'cp1252', sep=';', usecols=stolpci, decimal =',', dtype=dtype)\n",
    "df1802 = pd.read_csv(\"../data/2018/Podatki_022018.csv\", encoding = 'cp1252', sep=';', usecols=stolpci, decimal =',', dtype=dtype)\n",
    "df1803 = pd.read_csv(\"../data/2018/Podatki_032018.csv\", encoding = 'cp1252', sep=';', usecols=stolpci, decimal =',', dtype=dtype)\n",
    "df1804 = pd.read_csv(\"../data/2018/Podatki_042018.csv\", encoding = 'cp1252', sep=';', usecols=stolpci, decimal =',', dtype=dtype)\n",
    "df1805 = pd.read_csv(\"../data/2018/Podatki_052018.csv\", encoding = 'cp1252', sep=';', usecols=stolpci, decimal =',', dtype=dtype)\n",
    "df1806 = pd.read_csv(\"../data/2018/Podatki_062018.csv\", encoding = 'cp1252', sep=';', usecols=stolpci, decimal =',', dtype=dtype)\n",
    "df1807 = pd.read_csv(\"../data/2018/Podatki_072018.csv\", encoding = 'cp1252', sep=';', usecols=stolpci, decimal =',', dtype=dtype)\n",
    "df1808 = pd.read_csv(\"../data/2018/Podatki_082018.csv\", encoding = 'cp1252', sep=';', usecols=stolpci, decimal =',', dtype=dtype)\n",
    "df1809 = pd.read_csv(\"../data/2018/Podatki_092018.csv\", encoding = 'cp1252', sep=';', usecols=stolpci, decimal =',', dtype=dtype)\n",
    "df1810 = pd.read_csv(\"../data/2018/Podatki_102018.csv\", encoding = 'cp1252', sep=';', usecols=stolpci, decimal =',', dtype=dtype)\n",
    "df1811 = pd.read_csv(\"../data/2018/Podatki_112018.csv\", encoding = 'cp1252', sep=';', usecols=stolpci, decimal =',', dtype=dtype)\n",
    "df1812 = pd.read_csv(\"../data/2018/Podatki_122018.csv\", encoding = 'cp1252', sep=';', usecols=stolpci, decimal =',', dtype=dtype)\n",
    "df18 = [df1801, df1802, df1803, df1804, df1805, df1806, df1807, df1808, df1809, df1810, df1811, df1812]\n",
    "data18 = pd.concat(df18, sort=False)\n",
    "\n",
    "df1901 = pd.read_csv(\"../data/2019/Podatki_012019.csv\", encoding = 'cp1252', sep=';', usecols=stolpci, decimal =',', dtype=dtype)\n",
    "df1902 = pd.read_csv(\"../data/2019/Podatki_022019.csv\", encoding = 'cp1252', sep=';', usecols=stolpci, decimal =',', dtype=dtype)\n",
    "df19 = [df1901, df1902]\n",
    "data19 = pd.concat(df19, sort=False)\n",
    "\n",
    "\n"
   ]
  },
  {
   "cell_type": "code",
   "execution_count": 5,
   "metadata": {},
   "outputs": [],
   "source": [
    "bencin = dict()\n",
    "dizel = dict()\n",
    "ben=[]\n",
    "diz=[]\n",
    "\n",
    "dat12 = data12[data12['Kategorija vozila - oznaka'] == 'M1']\n",
    "bencin['2012'] = len(dat12[dat12['Vrsta goriva'] == 'P'])\n",
    "dizel['2012'] = len(dat12[dat12['Vrsta goriva'] == 'D'])\n",
    "ben.append(len(dat12[dat12['Vrsta goriva'] == 'P']))\n",
    "diz.append(len(dat12[dat12['Vrsta goriva'] == 'D']))\n",
    "\n",
    "dat15 = data15[data15['J-Kategorija in vrsta vozila (oznaka)'] == 'M1']\n",
    "bencin['2015'] = len(dat15[dat15['P.1.3-Vrsta goriva (oznaka)'] == 'P'])\n",
    "dizel['2015'] = len(dat15[dat15['P.1.3-Vrsta goriva (oznaka)'] == 'D'])\n",
    "ben.append(len(dat15[dat15['P.1.3-Vrsta goriva (oznaka)'] == 'P']))\n",
    "diz.append(len(dat15[dat15['P.1.3-Vrsta goriva (oznaka)'] == 'D']))\n",
    "\n",
    "dat18 = data18[data18['J-Kategorija in vrsta vozila (oznaka)'] == 'M1']\n",
    "bencin['2018'] = len(dat18[dat18['P.1.3-Vrsta goriva (oznaka)'] == 'P'])\n",
    "dizel['2018'] = len(dat18[dat18['P.1.3-Vrsta goriva (oznaka)'] == 'D'])\n",
    "ben.append(len(dat18[dat18['P.1.3-Vrsta goriva (oznaka)'] == 'P']))\n",
    "diz.append(len(dat18[dat18['P.1.3-Vrsta goriva (oznaka)'] == 'D']))\n",
    "\n",
    "dat19 = data19[data19['J-Kategorija in vrsta vozila (oznaka)'] == 'M1']\n",
    "bencin['2019'] = len(dat19[dat19['P.1.3-Vrsta goriva (oznaka)'] == 'P'])\n",
    "dizel['2019'] = len(dat19[dat19['P.1.3-Vrsta goriva (oznaka)'] == 'D'])\n",
    "ben.append(len(dat19[dat19['P.1.3-Vrsta goriva (oznaka)'] == 'P']))\n",
    "diz.append(len(dat19[dat19['P.1.3-Vrsta goriva (oznaka)'] == 'D']))\n"
   ]
  },
  {
   "cell_type": "code",
   "execution_count": 6,
   "metadata": {},
   "outputs": [
    {
     "data": {
      "image/png": "[encoded data removed]",
      "text/plain": [
       "<Figure size 432x288 with 1 Axes>"
      ]
     },
     "metadata": {
      "needs_background": "light"
     },
     "output_type": "display_data"
    }
   ],
   "source": [
    "#število registriranih bencinskih avtomobilov\n",
    "plt.bar(range(len(bencin)), bencin.values(), color='pink')\n",
    "plt.xticks(range(len(leto)), leto)\n",
    "plt.xticks(rotation=90)\n",
    "plt.ylabel('Število registracij')\n",
    "plt.xlabel('Leto')\n",
    "plt.show()"
   ]
  },
  {
   "cell_type": "code",
   "execution_count": 7,
   "metadata": {},
   "outputs": [
    {
     "data": {
      "image/png": "[encoded data removed]",
      "text/plain": [
       "<Figure size 432x288 with 1 Axes>"
      ]
     },
     "metadata": {
      "needs_background": "light"
     },
     "output_type": "display_data"
    }
   ],
   "source": [
    "#število registriranih dizelskih avtomobilov\n",
    "plt.bar(range(len(dizel)), dizel.values(), color='blue')\n",
    "plt.xticks(range(len(leto)), leto)\n",
    "plt.xticks(rotation=90)\n",
    "plt.ylabel('Število registracij')\n",
    "plt.xlabel('Leto')\n",
    "plt.show()\n"
   ]
  },
  {
   "cell_type": "code",
   "execution_count": 8,
   "metadata": {},
   "outputs": [
    {
     "data": {
      "text/plain": [
       "{'2012': 36875, '2015': 48893, '2018': 52272, '2019': 8375}"
      ]
     },
     "execution_count": 8,
     "metadata": {},
     "output_type": "execute_result"
    }
   ],
   "source": [
    "dizel\n",
    "#b12 31349, b15 441456, b18 742440, b19 17786 \n",
    "#d12 49602, d15 781968, d18 906780, d19 24742"
   ]
  },
  {
   "cell_type": "code",
   "execution_count": 9,
   "metadata": {},
   "outputs": [
    {
     "data": {
      "image/png": "[encoded data removed]",
      "text/plain": [
       "<Figure size 432x288 with 1 Axes>"
      ]
     },
     "metadata": {
      "needs_background": "light"
     },
     "output_type": "display_data"
    }
   ],
   "source": [
    "x = range(4)\n",
    "plt.bar(x, ben, color='cyan', align='center', label='Vozila na bencin')\n",
    "plt.bar(x, diz, bottom=ben, color='magenta', align='center', label='Vozila na dizel')\n",
    "plt.xticks(x)\n",
    "plt.gca().set_xticklabels(leto, rotation=70)\n",
    "plt.ylabel('Število registracij')\n",
    "plt.xlabel('Leto')\n",
    "plt.title('Število na novo registriranih dizelskih in bencinskih vozil\\n')\n",
    "plt.legend();\n",
    "#plt.savefig('goriva_st.png', bbox_inches='tight')\n"
   ]
  },
  {
   "cell_type": "code",
   "execution_count": 10,
   "metadata": {},
   "outputs": [
    {
     "data": {
      "text/plain": [
       "'Pri tej hipotezi sva želela prikazati razliko med novo rgistriranimi vozili na becin in dizel skozi zadnjih nekaj let.\\nZa prikaz sva uporabila podatke o registracija iz let 2012, 2015,2018 in 2019 oz. sprememba na vsaka 3 leta. \\nKot lahko razberemo iz grfva so v splošnem dizelska vozila veliko bolj priljubljena kot bencinska, pribljenost pa z leti tudi narašča\\nVidimo lahko tudi, da se samo število novih registracij enakomerno veča skozi let.\\nPri vozilih na bencin opazimo, da je število regsitracij v letih 2012 in 2015 približno enako, medtem ko v letu 2018 naraste za 45%\\nŠtevilo registracij dizelskih vozil pa se veča bolj enakomerno, kjer je še vedno večji preskok med leti 2015 in 2018.\\nPrikazala sva tudi podatke za leto 2019, vendar ker sva imela na voljo podatke le za mesec januar in februar nam to ne pomaga pri prikazu hipoteze.\\nŠe vedno pa lahko vidimo da so tudi v letošnjem letu bolj priljubljena dizelska vozila.'"
      ]
     },
     "execution_count": 10,
     "metadata": {},
     "output_type": "execute_result"
    }
   ],
   "source": [
    "\"\"\"Pri tej hipotezi sva želela prikazati razliko med novo rgistriranimi vozili na becin in dizel skozi zadnjih nekaj let.\n",
    "Za prikaz sva uporabila podatke o registracija iz let 2012, 2015,2018 in 2019 oz. sprememba na vsaka 3 leta. \n",
    "Kot lahko razberemo iz grfva so v splošnem dizelska vozila veliko bolj priljubljena kot bencinska, pribljenost pa z leti tudi narašča\n",
    "Vidimo lahko tudi, da se samo število novih registracij enakomerno veča skozi let.\n",
    "Pri vozilih na bencin opazimo, da je število regsitracij v letih 2012 in 2015 približno enako, medtem ko v letu 2018 naraste za 45%\n",
    "Število registracij dizelskih vozil pa se veča bolj enakomerno, kjer je še vedno večji preskok med leti 2015 in 2018.\n",
    "Prikazala sva tudi podatke za leto 2019, vendar ker sva imela na voljo podatke le za mesec januar in februar nam to ne pomaga pri prikazu hipoteze.\n",
    "Še vedno pa lahko vidimo da so tudi v letošnjem letu bolj priljubljena dizelska vozila.\"\"\""
   ]
  },
  {
   "cell_type": "code",
   "execution_count": null,
   "metadata": {},
   "outputs": [],
   "source": []
  },
  {
   "cell_type": "code",
   "execution_count": 11,
   "metadata": {},
   "outputs": [],
   "source": [
    "##Ali v večjih mestih prevladujejo manjši avtomobili proti večjim?\n",
    "## povprečna dolžina = 4,465 mm"
   ]
  },
  {
   "cell_type": "code",
   "execution_count": 74,
   "metadata": {},
   "outputs": [],
   "source": [
    "manjsa_vozila15 = []\n",
    "mesta15 = []\n",
    "man_voz15 = []\n",
    "reg15 = dict()\n",
    "\n",
    "temp15 = data15[data15['J-Kategorija in vrsta vozila (oznaka)'] == 'M1']\n",
    "\n",
    "for id_m in id_mesta:\n",
    "    avti_mesto15 = temp15[temp15['C1.3-Obcina uporabnika vozila (oznaka)'] == id_m]\n",
    "    st = len(temp15[temp15['C1.3-Obcina uporabnika vozila (oznaka)'] == id_m])\n",
    "    manjsa_vozila15.append((len(avti_mesto15[avti_mesto15['Y.1-Dolzina'] <= 4465]) * 100)/st)\n",
    "\n",
    "for val,city in zip(manjsa_vozila15, mesta):\n",
    "    reg15[val] = city\n",
    "    \n",
    "for key,val in sorted(reg15.items(), reverse=True):\n",
    "    man_voz15.append(key)\n",
    "    mesta15.append(val)\n"
   ]
  },
  {
   "cell_type": "code",
   "execution_count": 78,
   "metadata": {},
   "outputs": [
    {
     "data": {
      "image/png": "[encoded data removed]",
      "text/plain": [
       "<Figure size 432x288 with 1 Axes>"
      ]
     },
     "metadata": {
      "needs_background": "light"
     },
     "output_type": "display_data"
    }
   ],
   "source": [
    "x = range(len(mesta))\n",
    "plt.bar(x, man_voz15, color='pink', align='center', label='Manjsa vozila')\n",
    "plt.xticks(x)\n",
    "plt.gca().set_xticklabels(mesta15, rotation=70)\n",
    "plt.ylabel('Število registracij')\n",
    "plt.xlabel('Mesto')\n",
    "plt.title('Število manjših vozil v večjih mestih leta 2015\\n')\n",
    "plt.savefig('manjsa_vozila_2015.png', bbox_inches='tight') \n",
    "\n"
   ]
  },
  {
   "cell_type": "code",
   "execution_count": null,
   "metadata": {},
   "outputs": [],
   "source": []
  },
  {
   "cell_type": "code",
   "execution_count": 72,
   "metadata": {},
   "outputs": [],
   "source": [
    "manjsa_vozila18 = []\n",
    "mesta18 = []\n",
    "man_voz18 = []\n",
    "reg18 = dict()\n",
    "\n",
    "temp18 = data18[data18['J-Kategorija in vrsta vozila (oznaka)'] == 'M1']\n",
    "\n",
    "for id_m in id_mesta:\n",
    "    avti_mesto18 = temp18[temp18['C1.3-Obcina uporabnika vozila (oznaka)'] == id_m]\n",
    "    st = len(temp18[temp18['C1.3-Obcina uporabnika vozila (oznaka)'] == id_m])\n",
    "    manjsa_vozila18.append((len(avti_mesto18[avti_mesto18['Y.1-Dolzina'] <= 4465]) * 100)/st)\n",
    "\n",
    "for val,city in zip(manjsa_vozila18, mesta):\n",
    "    reg18[val] = city\n",
    "    \n",
    "for key,val in sorted(reg18.items(), reverse=True):\n",
    "    man_voz18.append(key)\n",
    "    mesta18.append(val)\n",
    "\n"
   ]
  },
  {
   "cell_type": "code",
   "execution_count": 79,
   "metadata": {},
   "outputs": [
    {
     "data": {
      "image/png": "[encoded data removed]",
      "text/plain": [
       "<Figure size 432x288 with 1 Axes>"
      ]
     },
     "metadata": {
      "needs_background": "light"
     },
     "output_type": "display_data"
    }
   ],
   "source": [
    "x = range(len(mesta))\n",
    "plt.bar(x, man_voz18, color='pink', align='center', label='Manjsa vozila')\n",
    "plt.xticks(x)\n",
    "plt.gca().set_xticklabels(mesta18, rotation=70)\n",
    "plt.ylabel('Število registracij')\n",
    "plt.xlabel('Mesto')\n",
    "plt.title('Število manjših vozil v večjih mestih leta 2018\\n')\n",
    "plt.savefig('manjsa_vozila_2018.png', bbox_inches='tight') "
   ]
  },
  {
   "cell_type": "code",
   "execution_count": null,
   "metadata": {},
   "outputs": [],
   "source": [
    "\"\"\"Cilj te hipoteze je bil ugotoviti ali se ljudje v večjih slovenskih mestih raje odločajo za manjša vozila. za prikaz sva uporabila podatke iz let 2015 ter 2018 in sicer za 10 največjih Slovenskih mest. Vozila sva razdelila v kategoriji tako, da sva velikost primerjala z povprečno dolžino kombilimuzine(Hatchback) kar je 4465mm. \n",
    "Na grafu je število registracij pikazano kot odstotek manjših vozil od vseh registriraneh vozil v tem mestu.\n",
    "\n",
    "Kot lahko razberemo iz grafa za leto 2015 so bila manjša vozila s kar 60 odstotki veliko bolj popularna kot večja vozila. Vidimo lahko tudi da v Trbovljah, Mariboru, Novem Mestu in kamniku prevladujejo s kar 70 odstotki. \n",
    "Manjša vozila pa so bila v letu 2015 najbolj priljubljena v Trbovljah\n",
    "\n",
    "V letu 2018 je priljubljenost manjših vozil nekoliko upadla, vendar je še vedno v večinskem deležu. Manjša vozila v tem letu najbolj prevladujejo v Novem Mestu, Trbovljah, Mariboru in Kopru. V letu 2018 pa je za razliko od 2015 največji delež manjših vozil V Novem mestu, ki je bilo prej na 3. mestu po številu registracij.\n",
    "Zanimiva je tudi ugotovitev, da je delež manjših vozil v Ljubljani najmanši in so vozila približno v enakem razmerju. Ker je Ljubljana glavno mesto sva pričakovala da bodo manjša vozila prevladovala v veliki večini.\"\"\""
   ]
  }
 ],
 "metadata": {
  "kernelspec": {
   "display_name": "Python 3",
   "language": "python",
   "name": "python3"
  },
  "language_info": {
   "codemirror_mode": {
    "name": "ipython",
    "version": 3
   },
   "file_extension": ".py",
   "mimetype": "text/x-python",
   "name": "python",
   "nbconvert_exporter": "python",
   "pygments_lexer": "ipython3",
   "version": "3.7.1"
  }
 },
 "nbformat": 4,
 "nbformat_minor": 2
}
