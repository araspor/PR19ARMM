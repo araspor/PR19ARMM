{
 "cells": [
  {
   "cell_type": "markdown",
   "metadata": {},
   "source": [
    "# PR19ARMM - Analiza novo registriranih avtomobilov v Sloveniji skozi leta\n",
    "## Vmesno poročilo\n",
    "\n",
    "## Ekipa\n",
    "* Andraž Raspor\n",
    "* Matjaž Možina"
   ]
  },
  {
   "cell_type": "markdown",
   "metadata": {},
   "source": [
    "## Podatki\n",
    "Vir: https://podatki.gov.si/dataset/prvic-registrirana-vozila-po-mesecih\n",
    "\n",
    "Uporabljala sva podatke iz portala Odprti podatki Slovenije. Vzela sva množico podatkov o prvič registriranih vozilih v Sloveniji po mesecih. Ker je podatkov ogromno, sva se odločila vzeti le podatke iz let 2012, 2015, 2018 in prvih dveh mesecev leta 2019. Vsi podatki so v formatu csv.\n",
    "\n",
    "Za te podatke sva se odločila, ker naju zanimajo spremembe pri nakupovanju avtomobilov skozi leta. Želiva ugotoviti za kakšne tipe avtomobilov se Slovenci raje odločamo glede na tip goriva, nazivno moč, porabo, itd. Velik poudarek bova postavila tudi na trend električnih avtomobilov, ki postajajo vedno bolj popularni.\n",
    "\n",
    "Podatki so beleženi od leta 2012 naprej, zaradi velike količine pa sva, kot sem že prej omenil, vzela le podatke iz določenih let. Nekaj težav nama je povzročal sam format podatkov. Leta 2015 so namreč spremenili obliko zapisa podatkov, dodali so tudi veliko več informacij o vozilih.\n",
    "\n",
    "Za branje podatkov sva uporabila knjižnico pandas, ki omogoča enostavno branje formata csv. Ker podatki vsebujejo tudi šumnike, sva uporabila encoding cp1252.\n",
    "\n",
    "## Opis atributov in vrednosti\n",
    "Za najine potrebe vsi stolpci niso bili potrebni. Podatki iz leta 2012 so bili zapisani v drugačni obliki kot iz ostalih let, zato sva tam vzela vse stolpce. Pri podatkih iz let 2015, 2018 in 2019 pa sva vzela le naslednje stolpce:\n",
    "\n",
    "* Datum prve registracije, kjerkoli in nato še samo v SLO - zvezna atributa\n",
    "* Status vozila - diskretni atribut (odjavljeno, registrirano, v postopku)\n",
    "* Izvajalna enota prve registracije - diskretni atribut\n",
    "* Starost uporabnika vozila - zvezni atribut\n",
    "* Ali je uporabnik pravna ali fizicna oseba  - diskretni atribut (P ali F)\n",
    "* Spol uporabnika - diskretni atribut - (M ali Z, prazno če je oseba pravna)\n",
    "* Upravna enota - diskretni atribut\n",
    "* Občina - diskretni atribut\n",
    "* Starost lastnika vozila - zvezni atribut\n",
    "* Znakma - diskretni atribut (Audi, Alfa Romeo, Volkswagen...)\n",
    "* barva - diskretni atribut (kovinski-BELA-SREDNJA, kovinski-BELA-SVETLA...)\n",
    "* teža vozila - zvezni atribut\n",
    "* Vrsta goriva - diskretni atribut (bencin, dizel, zem. plin...)\n",
    "* Število sedežev (število) - diskretni atribut\n",
    "* Dolžina, širina in višina - zvezni atributi\n",
    "* Leto izdelave - diskretni atribut"
   ]
  },
  {
   "cell_type": "markdown",
   "metadata": {},
   "source": [
    "## Vprašanja oz. hipoteze\n",
    "\n",
    "Poskušala bova odgovoriti na naslednja vprašanja:\n",
    "\n",
    "* Razlika po številu na novo registriranih dizelskih in benzinskih avtomobilov v zadnjih šestih letih?\n",
    "* Ali v večjih mestih prevladujejo manjši avtomobili proti večjim?\n",
    "* Kakšne avtomobile raje kupujejo mladi vozniki (glede na nazivno moč, porabo, ...)?\n",
    "* Kako spol vpliva na izbiro osebnega avtomobila (ali moški kupujejo močnejše avte, ženske varčnejše)?\n",
    "* V katerem starostnem obdobju se prebivalci Slovenije raje odločajo za električna vozila, ali na to vpliva tudi spol?\n",
    "* Ali se Slovenci v zadnjih letih raje odločajo za električna vozila?"
   ]
  },
  {
   "cell_type": "markdown",
   "metadata": {},
   "source": [
    "## Ugotovitve\n",
    "\n",
    "### Razlika po številu na novo registriranih dizelskih in benzinskih avtomobilov v zadnjih šestih letih.\n",
    "Pri tej hipotezi sva želela prikazati razliko med novo registriranimi vozili na bencin in dizel, skozi zadnjih nekaj let.\n",
    "Za prikaz sva uporabila podatke o registracijah iz let 2012, 2015,2018 in 2019 oz. sprememba na vsaka 3 leta.\n",
    "\n",
    "Kot lahko razberemo iz grafa so v splošnem dizelska vozila veliko bolj priljubljena kot bencinska, priljubljenost pa z leti tudi narašča.\n",
    "Vidimo lahko tudi, da se samo število novih registracij enakomerno veča skozi leta.\n",
    "Pri vozilih na bencin opazimo, da je število registracij v letih 2012 in 2015 približno enako, medtem ko v letu 2018 naraste za 45%.\n",
    "Število registracij dizelskih vozil pa se veča bolj enakomerno, kjer je še vedno večji preskok med leti 2015 in 2018.\n",
    "\n",
    "Prikazala sva tudi podatke za leto 2019, vendar sva imela na voljo podatke le za mesec januar in februar, kar nama ne pomaga pri dokazovanju hipoteze.\n",
    "Še vedno pa lahko vidimo, da so tudi v letošnjem letu bolj priljubljena dizelska vozila.\n",
    "\n",
    "![Goriva](images/goriva_st.png)"
   ]
  },
  {
   "cell_type": "markdown",
   "metadata": {},
   "source": [
    "### Ali v večjih mestih prevladujejo manjši avtomobili proti večjim?\n",
    "Cilj te hipoteze je bil ugotoviti ali se ljudje v večjih slovenskih mestih raje odločajo za manjša vozila.\n",
    "Za prikaz sva uporabila podatke iz let 2015 ter 2018 in sicer za 10 največjih Slovenskih mest. Vozila sva razdelila v kategorije tako, da sva velikost primerjala s povprečno dolžino kombilimuzine(Hatchback), kar je 4465mm.\n",
    "Na grafu je število registracij pikazano kot odstotek manjših vozil od vseh registriranih vozil v tem mestu.\n",
    "\n",
    "2015:\n",
    "Kot lahko razberemo iz grafa za leto 2015 so bila manjša vozila s kar 60 odstotki veliko bolj popularna kot večja vozila.\n",
    "Vidimo lahko tudi, da v Trbovljah, Mariboru, Novem Mestu in Kamniku prevladujejo s kar 70 odstotki.\n",
    "Manjša vozila pa so bila v letu 2015 najbolj priljubljena v Trbovljah.\n",
    "\n",
    "![Manjsa15](images/manjsa_vozila_2015.png)\n",
    "\n",
    "2018:\n",
    "V letu 2018 je priljubljenost manjših vozil nekoliko upadla, vendar je še vedno v večinskem deležu.\n",
    "Manjša vozila v tem letu najbolj prevladujejo v Novem Mestu, Trbovljah, Mariboru in Kopru.\n",
    "V letu 2018 pa je za razliko od 2015 največji delež manjših vozil V Novem mestu, ki je bilo prej na 3. mestu po številu registracij.\n",
    "Zanimiva je tudi ugotovitev, da je delež manjših vozil v Ljubljani najmanjši in so vozila približno v enakem razmerju. Ker je Ljubljana glavno mesto sva pričakovala, da bodo manjša vozila prevladovala v veliki večini.\n",
    "Sklepava, da na majhen delež vpliva več faktorjev. Sama občina Ljubljane je\n",
    "velika, ljudje ki živijo v okolici pa verjetno ne gledajo toliko na samo\n",
    "velikost avtomobila.\n",
    "Veliko vozil je tudi v lasti pravnih oseb. Različna podjetja in ustanove uporabljajo službena vozila za vožnje na daljše razdalje, ponavadi med sedeži podjetij v različnih mestih.\n",
    "Verjetno ne gledajo preveč na velikost avtomobilov, oziroma še raje uporabljajo večja vozila za prevoz večih uslužbencev.\n",
    "\n",
    "![Manjsa18](images/manjsa_vozila_2018.png)"
   ]
  },
  {
   "cell_type": "markdown",
   "metadata": {},
   "source": [
    "### Kakšne avtomobile raje kupujejo mladi vozniki (glede na nazivno moč, porabo, ...)?\n",
    "Pri tej hipotezi sva želela ugotoviti za kakšne avtomobile se raje odločajo mladi vozniki. Ali se raje odločijo za vozila z manjšo oz. večjo porabo, za hitrejša ali bolj počasna vozila in kako se to odraža pri starejših voznikih.\n",
    "\n",
    "Za prikaz sva uporabila podatke iz let 2015 in 2018. Podatke sva razdelila v dve skupini in sicer na mlade voznike, ki so stari 21 let ali manj ter na voznike ki so starejši od 21 let. Vsi podatki so prikazani kot odstotek od vseh vozil.\n",
    "\n",
    "#### Poraba\n",
    "Najprej sva prikazala podatke o porabi. Pričakovala sva, da se bodo mladi vozniki raje odločali za vozila, ki so nekoliko bolj varčna. Kot lahko vidimo se večina mladih voznikov odloča za vozila, ki imajo nekje normalno porabo oz. med 4.6 in 7.0 litri na 100 kilometrov.\n",
    "Nekaj voznikov se je odločilo za vozila, ki so zelo varčna, najmanj oz. zelo malo pa se jih odloča za vozila, ki imajo veliko porabo (več kot 7 litrov na 100 kilometrov).\n",
    "Pričakovala sva tudi, da se bodo starejši vozniki odločali za vozila z malo večjo porabo, vendar je razmerje približno enako.\n",
    "\n",
    "![Poraba](images/poraba.png)\n",
    "\n",
    "#### Nazivna moč oz. razmerje moč/masa\n",
    "Nato sva prikazala še podatke o moči vozil. Podatke sva pripravila v razmerju moč proti masi oz. koliko moči ima vozilo na tono mase(konjske moči/tona).\n",
    "\n",
    "Tukaj sva pričakovala, da se bodo mladi vozniki odločili ali za vozila z manj konjskimi močimi ali pa za močnejša vozila. Kot lahko vidimo, se je velika večina voznikov odločila za vmesno varianto oz. za vozila, ki imajo bolj normalno razmerje moči proti masi.\n",
    "\n",
    "Pričakovala sva tudi, da se bodo za močnejša vozila odločali starejši vozniki, saj so takšna vozila nekoliko dražja a podatki kažejo na nasprotno. Vidimo pa lahko tudi, da razmereje ostaja približno enako pri mlajših in starejših voznikih.\n",
    "\n",
    "![Nazivna Moč](images/moc.png)\n"
   ]
  },
  {
   "cell_type": "markdown",
   "metadata": {},
   "source": [
    "### Kako spol vpliva na izbiro osebnega avtomobila (ali moški kupujejo močnejše avte, ženske varčnejše)?\n",
    "Hotela sva ugotoviti razlike pri izbiri osebnega avtomobila glede na spol. Pričakovala sva, da ženske bolj gledajo na varčnost avtomobila in jih nazivna moč ne zanima toliko, moški pa ne gledajo toliko na porabo ampak bolj na nazivno moč.\n",
    "\n",
    "![Primerjava spol, poraba, moč](images/scatter_nazivna_poraba_spol.png)\n",
    "\n",
    "Naša hipoteza je bila deloma pravilna saj je iz grafa razvidno, da močnejše in potratnejše avtomobile kupujejo bolj moški kot ženske. Vidimo pa tudi, da je velika večina avtomobilov ne glede na spol v enaki skupini. Lahko torej sklepamo, da ko gremo v neke ekstreme, moški kupujejo močnejše in potratnejše avtomobile vendar v večini primerov spol nima prevelikega vpliva."
   ]
  },
  {
   "cell_type": "markdown",
   "metadata": {},
   "source": [
    "### Ali se Slovenci v zadnjih letih raje odločajo za električna vozila?\n",
    "Pri tej hipotezi naju je zanimalo ali se število električnih avtomobilov v Sloveniji povečuje. Glede na to, da so se električni avtomobili v zadnjih letih zelo razvili ter so sedaj veliko bolj učinkoviti, močnejši ter cenejši kot včasih, sva pričakovala narastek v registracijah električnih avtomobilov.\n",
    "\n",
    "Izkazalo se je, da sva sklepala pravilno.\n",
    "Število na novo registriranih električnih avtomobilov iz leta v leto narašča.\n",
    "Leta 2012 je bilo namreč registriranih le 24 takšnih osebnih vozil, leta 2015 je to število krepko naraslo na 144 električnih avtomobilov, leta 2018 pa je bilo registriranih 569 električnih avtomobilov.\n",
    "V januarju in februarju letošnjega leta je bilo registriranih že 99 električnih osebnih vozil, kar je več kot celega leta 2012.\n",
    "\n",
    "![Elektricni](images/st_elek_po_letih.png)\n",
    "\n",
    "Zanimalo naju je tudi, katera znamka je najbolj popularna v Sloveniji. Iz spodnjega grafa je razvidno, da je največ registriranih avtomobilov znamke Renault, blizu sta ji Nissan in BMW, kar nekaj avtomobilov pa je tudi znamk Smart, Hyundai in Volkswagen. To so števila za leta 2012, 2015 in 2018 skupaj.\n",
    "\n",
    "![ElektricniZnamke](images/popularnost_znamk_elektricnih.png)"
   ]
  },
  {
   "cell_type": "markdown",
   "metadata": {},
   "source": [
    "### V katerem starostnem obdobju se prebivalci Slovenije raje odločajo za električna vozila, ali na to vpliva tudi spol?\n",
    "Ker se je število električnih avtomobilov krepko povečalo, naju je zanimalo ali na nakup električnih vozil vplivata starost in spol uporabnika. Sklepava, da se za tovrstne avtomobile odločajo starejše starostne skupine, misliva pa da spol nima prevelikega vpliva na to.\n",
    "\n",
    "#### Spol\n",
    "Iz spodnjega grafa je razvidno, da so moški registrirali več električnih avtomobilov kot ženske.\n",
    "\n",
    "![ElektricnaSpol](images/st_elek_spol.png)\n",
    "\n",
    "Možno je, da moški na sploh registrirajo več avtomobilov, zato sva tukaj izračunala še delež električnih avtomobilov za posamezen spol.\n",
    "\n",
    "![ElektricnaSpolDelež](images/delez_elek_spol.png)\n",
    "\n",
    "Da povzamem, električni avtomobili so malo bolj priljubljeni med moškimi. Ker je v lasti fizičnih oseb električnih avtomobilov manj kot 1%, pa vpliv spola na nakup avtomobila ne moremo z zagotovostjo trditi.\n",
    "\n",
    "Prejšnja trditev, da Slovenci kupujemo vedno več električnih osebnih avtomobilov sicer drži, vendar je razvidno, da je delež glede na vse osebne avtomobilo izjemno majhen.\n",
    "\n",
    "Opazila sva, da je v zgornjem grafu manj kot polovica vseh registriranih električnih osebnih vozil.\n",
    "To pomeni, da več kot polovico takšnih vozil uporabljajo pravne osebe in ne fizične, kar sva tudi prikazala v naslednjem [grafu](files/images/st_elek_pravna.png)."
   ]
  },
  {
   "cell_type": "markdown",
   "metadata": {},
   "source": [
    "#### Starost\n",
    "Najprej poglejmo kako so porazdeljeni vsi avtomobili glede na starostne skupine.\n",
    "\n",
    "![StarostVsi](images/st_vsi_starostne_skupine.png)\n",
    "\n",
    "Vidimo, da število na novo registriranih osebnih vozil narašča, starejše kot so osebe. V starostni skupini 18 do 26 let je zelo malo avtomobilov, če jih primerjamo že z naslednjo skupino med 26 in 33 let. Število avtomobilov začne spet konstantno padati nekje pri 56 letu starosti. \n",
    "\n",
    "V spodnjem grafu sva prikazala deleže električnih avtomobilov od vseh avtomobilov, glede na starostne skupine. \n",
    "Opazimo, da so električni avtomobili najbolj popularni v starostni skupini 41-49 let. Nobenega električnega vozila ne uporabljajo v starostni skupini 87-95, kar je tudi pričakovati, saj je zelo malo verjetno, da si bodo pri takšni starosti kupili nov avtomobil, oz. tudi voznikov je pri tej starosti že zelo malo.\n",
    "\n",
    "Kot pričakovano so električni avtomobili bolj priljubljeni v starejših starostnih skupinah. Pri mladih med 18 in 26 letom starosti je le 0.075% vseh osebnih avtomobilov na električni pogon. Verjetno je eden od razlogov zakaj je temu tako tudi cenovna ovira električnih avtomobilov. V Sloveniji jih je zelo malo, zato se rabljen trg še ni dobro razvil, novi pa so kar dragi. Mislim, da večina ljudi med 18 in 26 letom starosti kupuje rabljene avtomobile, nekje pri 30 pa morda kupijo tudi nov avtomobil, zato se tudi delež električnih tam poveča.\n",
    "\n",
    "![StarostElektrična](images/delez_elek_starostne_skupine.png)"
   ]
  }
 ],
 "metadata": {
  "kernelspec": {
   "display_name": "Python 3",
   "language": "python",
   "name": "python3"
  },
  "language_info": {
   "codemirror_mode": {
    "name": "ipython",
    "version": 3
   },
   "file_extension": ".py",
   "mimetype": "text/x-python",
   "name": "python",
   "nbconvert_exporter": "python",
   "pygments_lexer": "ipython3",
   "version": "3.7.3"
  }
 },
 "nbformat": 4,
 "nbformat_minor": 2
}
